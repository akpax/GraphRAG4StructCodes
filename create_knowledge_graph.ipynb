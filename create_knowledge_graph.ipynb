{
 "cells": [
  {
   "cell_type": "code",
   "execution_count": 2,
   "metadata": {},
   "outputs": [],
   "source": [
    "import json"
   ]
  },
  {
   "cell_type": "markdown",
   "metadata": {},
   "source": [
    "## Load and Reformat ACI318-19 data\n",
    "* This data will be used to create our knowledge graph"
   ]
  },
  {
   "cell_type": "code",
   "execution_count": 3,
   "metadata": {},
   "outputs": [],
   "source": [
    "with open(\"data/ACI318-19_json/ACI318-19_complete_v2.json\",\"r\") as f:\n",
    "    data = json.load(f)"
   ]
  },
  {
   "cell_type": "code",
   "execution_count": 8,
   "metadata": {},
   "outputs": [
    {
     "data": {
      "text/plain": [
       "'\\njson schema consists of chapter keys containing a \\n- chapter entry\\n- list of section entries\\n- list of item entries\\n'"
      ]
     },
     "execution_count": 8,
     "metadata": {},
     "output_type": "execute_result"
    }
   ],
   "source": [
    "\"\"\"\n",
    "json schema consists of chapter keys containing a \n",
    "- chapter entry\n",
    "- list of section entries\n",
    "- list of item entries\n",
    "\"\"\""
   ]
  },
  {
   "cell_type": "code",
   "execution_count": 5,
   "metadata": {},
   "outputs": [
    {
     "data": {
      "text/plain": [
       "{'type': 'item',\n",
       " 'id': '12.1.2',\n",
       " 'content': 'Diaphragms in structures assigned to Seismic Design Category D, E, or F shall also satisfy requirements of 18.12 .',\n",
       " 'item_references': ['18.12'],\n",
       " 'chapter_references': []}"
      ]
     },
     "execution_count": 5,
     "metadata": {},
     "output_type": "execute_result"
    }
   ],
   "source": [
    "#item entry\n",
    "data[\"ch12\"][\"items\"][1]\n",
    "\n",
    "# items contain references to other items or headers"
   ]
  },
  {
   "cell_type": "code",
   "execution_count": 6,
   "metadata": {},
   "outputs": [
    {
     "name": "stdout",
     "output_type": "stream",
     "text": [
      "{'content': '12.1 Scope', 'id': '12.1', 'type': 'section'}\n"
     ]
    }
   ],
   "source": [
    "#section entry\n",
    "print(data[\"ch12\"][\"sections\"][0])"
   ]
  },
  {
   "cell_type": "code",
   "execution_count": 6,
   "metadata": {},
   "outputs": [
    {
     "name": "stdout",
     "output_type": "stream",
     "text": [
      "{'content': 'Chapter 12 Diaphragms', 'id': '12', 'type': 'chapter'}\n"
     ]
    }
   ],
   "source": [
    "#chapter entry\n",
    "print(data[\"ch12\"][\"chapter\"])"
   ]
  },
  {
   "cell_type": "code",
   "execution_count": 7,
   "metadata": {},
   "outputs": [],
   "source": [
    "# lets consolidate chapters, sections, and items\n",
    "nodes = {\"chapters\": [], \"sections\": [], \"items\": []}\n",
    "for val in data.values():\n",
    "    nodes[\"chapters\"].append(val[\"chapter\"])\n",
    "    nodes[\"sections\"].extend(val[\"sections\"])\n",
    "    nodes[\"items\"].extend(val[\"items\"])\n"
   ]
  },
  {
   "cell_type": "code",
   "execution_count": 8,
   "metadata": {},
   "outputs": [
    {
     "name": "stdout",
     "output_type": "stream",
     "text": [
      "Original Number of Chapters: 26\n",
      "Number of Chapters After Reformat: 26\n"
     ]
    }
   ],
   "source": [
    "# quick sanity check; \n",
    "print(f\"Original Number of Chapters: {len(data)}\")\n",
    "print(f\"Number of Chapters After Reformat: {len(nodes['chapters'])}\")\n",
    "assert len(data) == len(nodes[\"chapters\"])"
   ]
  },
  {
   "cell_type": "markdown",
   "metadata": {},
   "source": [
    "## Knowledge Graph\n",
    "### To Do\n",
    "\n",
    "\n",
    "#### Input Nodes + Relationships into Neo4j\n",
    "After nodes are validated we will upload the nodes into the Neo4j database using the Cypher query language. \n",
    "\n",
    "### Knowledge Graph Diagram\n",
    "<img src=\"images/graph_repr_small.png\" alt=\"Knowledge Graph Diagram\" />\n",
    "\n",
    "\n",
    "\n"
   ]
  },
  {
   "cell_type": "markdown",
   "metadata": {},
   "source": [
    "## Validate Nodes\n",
    "As shown above, each item is apart of a section which can be apart of other sections which is then linked to a chapter and finally to the ACI318 document. (item1.2.1 -> section:1.2-> chapter1-> document) We must ensure that the required section nodes exist such that each item can traverse upwards to the document and if the necessary section nodes do not exist in our scraped json, we must create them to be implemented into the Neo4j database.  \n",
    "\n",
    "This is crucial because items can reference other items, sections, or even chapters. If an item references a section but the section does not exist in our knowledge graph, we will not be able to transverse this path to that section's items during inference. \n",
    "\n",
    "Therefore, in this section we will:\n",
    "* check if upstream nodes exist for each item\n",
    "* check if nodes that items reference exist\n",
    "* add missing nodes"
   ]
  },
  {
   "cell_type": "code",
   "execution_count": 9,
   "metadata": {},
   "outputs": [
    {
     "name": "stdout",
     "output_type": "stream",
     "text": [
      "Number item IDs: 1828\n",
      "Average number item IDs per Chapter: 70.3\n",
      "['10.1.1', '10.1.2', '10.2.1.1', '10.2.1.2', '10.2.1.3', '10.2.2.1', '10.2.2.2', '10.2.2.3', '10.3.1.1', '10.3.1.2']\n"
     ]
    }
   ],
   "source": [
    "# get all item IDs\n",
    "item_ids = [item[\"id\"] for item in nodes['items']]\n",
    "num_items = len(item_ids)\n",
    "print(f\"Number item IDs: {num_items}\")\n",
    "print(f\"Average number item IDs per Chapter: {round(num_items/len(nodes['chapters']),1)}\")\n",
    "print(item_ids[:10])"
   ]
  },
  {
   "cell_type": "code",
   "execution_count": 10,
   "metadata": {},
   "outputs": [
    {
     "name": "stdout",
     "output_type": "stream",
     "text": [
      "item_refs: [[], [], [], [], ['20.6'], [], ['16.2'], ['16.3'], [], []]\n",
      "item_refs_flat: ['20.6', '16.2', '16.3', '1.5', '10.3.1.1', '10.3.1.4', '21.2', '22.4', '22.5', '22.7']\n",
      "\n",
      "Total Number of Item References: 1729\n",
      "Average number of Item References per Item: 0.9\n",
      "Max number of Item References: 10\n"
     ]
    }
   ],
   "source": [
    "## Basic Data exploration\n",
    "# find maximum number of references\n",
    "item_refs = [item[\"item_references\"]for item in nodes['items']]\n",
    "item_refs_flat = [ref for ref_list in item_refs for ref in ref_list]\n",
    "item_refs_lengths = [len(ref_list) for ref_list in item_refs]\n",
    "\n",
    "print(f\"item_refs: {item_refs[:10]}\")\n",
    "print(f\"item_refs_flat: {item_refs_flat[:10]}\\n\")\n",
    "num_item_refs = len(item_refs_flat)\n",
    "print(f\"Total Number of Item References: {num_item_refs}\")\n",
    "print(f\"Average number of Item References per Item: {round(num_item_refs/num_items,1)}\")\n",
    "print(f\"Max number of Item References: {max(item_refs_lengths)}\")"
   ]
  },
  {
   "cell_type": "markdown",
   "metadata": {},
   "source": [
    "### Validate Upstream Nodes which have PART_OF relationship to Items"
   ]
  },
  {
   "cell_type": "code",
   "execution_count": 11,
   "metadata": {},
   "outputs": [],
   "source": [
    "def extract_upstream_ids(id):\n",
    "    if \".\" in id:\n",
    "        section = id[:id.rindex(\".\")]\n",
    "        return [section] + extract_upstream_ids(section)\n",
    "    else: \n",
    "        return []\n",
    "    \n",
    "def find_missing_ids(req_upstream_ids, existing_upstream_ids):\n",
    "    missing_ids = []\n",
    "    for req_id in req_upstream_ids:\n",
    "        if req_id not in existing_upstream_ids:\n",
    "            missing_ids.append(req_id)\n",
    "    return missing_ids\n",
    "    \n",
    "    "
   ]
  },
  {
   "cell_type": "code",
   "execution_count": 12,
   "metadata": {},
   "outputs": [
    {
     "name": "stdout",
     "output_type": "stream",
     "text": [
      "req_upstream_ids[:10]=['8.5.2', '10.5.4', '18.4.4', '22.6', '25.9.1', '23.6', '24.2.4', '17.7', '26.4', '8.7']\n",
      "Number required upstream ids: 797\n",
      "714\n",
      "26\n",
      "existing_ids[:10]=['10.1', '10.2', '10.2.1', '10.2.2', '10.3', '10.3.1', '10.4', '10.4.1', '10.4.2', '10.5']\n",
      "Number existing ids: 2568\n"
     ]
    }
   ],
   "source": [
    "# find upstream IDs required by items\n",
    "req_upstream_ids = []\n",
    "for item in nodes[\"items\"]:\n",
    "    for upstream_id in extract_upstream_ids(item[\"id\"]):\n",
    "        req_upstream_ids.append(upstream_id)\n",
    "        \n",
    "# ensure upstream ids are unique\n",
    "req_upstream_ids = list(set(req_upstream_ids))\n",
    "print(f\"{req_upstream_ids[:10]=}\")\n",
    "print(f\"Number required upstream ids: {len(req_upstream_ids)}\")\n",
    "\n",
    "# find existing IDs\n",
    "existing_ids = [section[\"id\"] for section in nodes[\"sections\"]] + [chapter[\"id\"] for chapter in nodes[\"chapters\"]] + [item[\"id\"] for item in nodes[\"items\"]]\n",
    "print(len([section[\"id\"] for section in nodes[\"sections\"]]))\n",
    "print(len([section[\"id\"] for section in nodes[\"chapters\"]]))\n",
    "print(f\"{existing_ids[:10]=}\")\n",
    "print(f\"Number existing ids: {len(existing_ids)}\")\n"
   ]
  },
  {
   "cell_type": "code",
   "execution_count": 13,
   "metadata": {},
   "outputs": [
    {
     "name": "stdout",
     "output_type": "stream",
     "text": [
      "missing_ids=['14.1.4']\n",
      "1\n"
     ]
    }
   ],
   "source": [
    "missing_ids = find_missing_ids(req_upstream_ids, existing_ids)\n",
    "print(f\"{missing_ids=}\")\n",
    "print(len(missing_ids))"
   ]
  },
  {
   "cell_type": "code",
   "execution_count": 14,
   "metadata": {},
   "outputs": [],
   "source": [
    "# manually add the missing section\n",
    "new_node = {\"id\": \"14.1.4\",\n",
    "            \"type\":\"section\",\n",
    "            \"content\": \"14.1.4 Plain Concrete in Structures Assigned to Seismic Design Category C, D, E or F\"}\n",
    "nodes[\"sections\"].append(new_node)"
   ]
  },
  {
   "cell_type": "code",
   "execution_count": 15,
   "metadata": {},
   "outputs": [
    {
     "name": "stdout",
     "output_type": "stream",
     "text": [
      "missing_ids=[]\n",
      "0\n"
     ]
    }
   ],
   "source": [
    "# check if there are any missing nodes now\n",
    "existing_ids = [section[\"id\"] for section in nodes[\"sections\"]] + [chapter[\"id\"] for chapter in nodes[\"chapters\"]] + [item[\"id\"] for item in nodes[\"items\"]]\n",
    "\n",
    "missing_ids = find_missing_ids(req_upstream_ids, existing_ids)\n",
    "print(f\"{missing_ids=}\")\n",
    "print(len(missing_ids))"
   ]
  },
  {
   "cell_type": "markdown",
   "metadata": {},
   "source": [
    "### Validate Reference Nodes which have REFERENCES relationship to items"
   ]
  },
  {
   "cell_type": "code",
   "execution_count": 16,
   "metadata": {},
   "outputs": [
    {
     "name": "stdout",
     "output_type": "stream",
     "text": [
      "typ_refs[:10]=['22.6.7.1', '8.8.1.6', '10.3.2.3', '20.5.1.3.3', '22.6', '18.9.2.2', '24.2.4', '17.7', '17.6.2.4.1', '26.4']\n",
      "811\n",
      "chapter_refs[:10]=['8', '10', '13', '9', '6', '25', '27', '26', '22', '5']\n",
      "23\n"
     ]
    }
   ],
   "source": [
    "# check that all nodes referenced exist\n",
    "typ_refs = []\n",
    "chapter_refs = []\n",
    "for item in nodes[\"items\"]:\n",
    "    for ref_id in item[\"item_references\"]:\n",
    "        typ_refs.append(ref_id)\n",
    "    for ref_id in item[\"chapter_references\"]:\n",
    "        chapter_refs.append(ref_id)\n",
    "\n",
    "typ_refs = list(set(typ_refs))\n",
    "chapter_refs = list(set(chapter_refs))\n",
    "print(f\"{typ_refs[:10]=}\")\n",
    "print(f\"{len(typ_refs)}\")\n",
    "print(f\"{chapter_refs[:10]=}\")\n",
    "print(f\"{len(chapter_refs)}\")\n",
    "\n",
    "req_ref_ids = typ_refs + chapter_refs"
   ]
  },
  {
   "cell_type": "code",
   "execution_count": 17,
   "metadata": {},
   "outputs": [
    {
     "name": "stdout",
     "output_type": "stream",
     "text": [
      "missing_ids=['10.3.2.3', '5.8.4.4.2', '1.73', '3.3.1', '1.65', '12.14', '1.15', '18.6.5.1', '3.25', '5.8.4.4.3', '4.2.3', '1.09', '5.8.4.5', '1.25', '2.4', '2.5', '3.5', '5.5', '1.17', '12.11', '3']\n",
      "21\n"
     ]
    }
   ],
   "source": [
    "missing_ids = find_missing_ids(req_ref_ids, existing_ids)\n",
    "print(f\"{missing_ids=}\")\n",
    "print(len(missing_ids))"
   ]
  },
  {
   "cell_type": "code",
   "execution_count": 18,
   "metadata": {},
   "outputs": [],
   "source": [
    "# after going through the missing IDs, it is apparent that most of them must be referencing other documents and do not apply. \n",
    "# However, a few are missing, so we will manually add them now\n",
    "new_node = {\"id\": \"18.6.5.1\",\n",
    "            \"type\":\"item\",\n",
    "            \"item_references\": [],\n",
    "            \"content\": \"The design shear force Ve shall be calculated from consideration of the forces on the portion of the beam between faces of the joints. It shall be assumed that moments of opposite sign corresponding to probable flexural strength, Mpr, act at the joint faces and that the beam is loaded with the factored gravity and vertical earthquake loads along its span.\"}\n",
    "nodes[\"items\"].append(new_node)\n",
    "\n",
    "new_node = {\"id\": \"18.6.5.2\",\n",
    "            \"type\":\"item\",\n",
    "            \"item_references\": [\"18.6.4.1\", \"18.6.5.1\"],\n",
    "            \"content\": \"Transverse reinforcement over the lengths identified in 18.6.4.1 shall be designed to resist shear assuming Vc = 0 when both (a) and (b) occur: (a) The earthquake-induced shear force calculated in accordance with 18.6.5.1 represents at least one-half of the maximum required shear strength within those lengths.(b) The factored axial compressive force Pu including earthquake effects is less than Agfc'/20.\"}\n",
    "nodes[\"items\"].append(new_node)\n",
    "\n",
    "# remove the ids from missing_ids\n",
    "missing_ids.remove(\"18.6.5.1\")\n",
    "# remove 3 since Chapter 3 was purposely excluded from our data\n",
    "missing_ids.remove(\"3\")"
   ]
  },
  {
   "cell_type": "code",
   "execution_count": 19,
   "metadata": {},
   "outputs": [
    {
     "name": "stdout",
     "output_type": "stream",
     "text": [
      "Item Length Before remove false refs: 1830\n",
      "Item Length After remove false refs: 1830\n"
     ]
    }
   ],
   "source": [
    "# lets remove the references in the missing_ids list from our nodes. These references are erroneous and do not exist in our document\n",
    "def remove_references(ref_to_remove,nodes: dict):\n",
    "    for ref in ref_to_remove:\n",
    "        for item in nodes[\"items\"]:\n",
    "            if item['item_references'] == ref:\n",
    "                nodes[\"items\"] = nodes[\"items\"].remove(item)\n",
    "                item[\"item_references\"] = item[\"item_references\"].remove(ref)\n",
    "                nodes[\"items\"] = nodes[\"items\"].append(item)\n",
    "    return nodes\n",
    "\n",
    "\n",
    "print(f\"Item Length Before remove false refs: {len(nodes['items'])}\")\n",
    "nodes = remove_references(missing_ids, nodes)\n",
    "print(f\"Item Length After remove false refs: {len(nodes['items'])}\")"
   ]
  },
  {
   "cell_type": "code",
   "execution_count": 20,
   "metadata": {},
   "outputs": [],
   "source": [
    "# save the new validated nodes data for future use\n",
    "with open(\"data/ACI318-19_json/ACI318-19_nodes_format_validated.json\",\"w\") as f:\n",
    "    json.dump(nodes,f)"
   ]
  },
  {
   "cell_type": "code",
   "execution_count": 9,
   "metadata": {},
   "outputs": [],
   "source": [
    "with open(\"data/ACI318-19_json/ACI318-19_nodes_format_validated.json\",\"r\") as f:\n",
    "    data = json.load(f)\n",
    "    \n",
    "    "
   ]
  },
  {
   "cell_type": "code",
   "execution_count": 22,
   "metadata": {},
   "outputs": [
    {
     "data": {
      "text/plain": [
       "{'type': 'item',\n",
       " 'id': '18.6.4.1',\n",
       " 'content': 'Hoops shall be provided in the following regions of a beam : (a) Over a length equal to twice the beam depth measured from the face of the supporting column toward midspan, at both ends of the beam  (b) Over lengths equal to twice the beam depth on both sides of a section where flexural yielding is likely to occur as a result of lateral displacements beyond the elastic range of behavior.',\n",
       " 'item_references': [],\n",
       " 'chapter_references': []}"
      ]
     },
     "execution_count": 22,
     "metadata": {},
     "output_type": "execute_result"
    }
   ],
   "source": [
    "# use to query ndoes for specific ids\n",
    "nodes_flat = nodes[\"chapters\"]+ nodes[\"sections\"] + nodes[\"items\"]\n",
    "def locate_node_by_id(id: str, nodes_flat)-> dict:\n",
    "    for node in nodes_flat:\n",
    "        if node[\"id\"] == id:\n",
    "            return node\n",
    "\n",
    "\n",
    "locate_node_by_id(\"18.6.4.1\", nodes_flat)"
   ]
  },
  {
   "cell_type": "markdown",
   "metadata": {},
   "source": [
    "## Knowledge Graph Assembly\n",
    "Data has been validated. Now it is time to add our nodes and relationships "
   ]
  },
  {
   "cell_type": "code",
   "execution_count": 111,
   "metadata": {},
   "outputs": [],
   "source": [
    "# Langchain\n",
    "from langchain_community.graphs import Neo4jGraph\n",
    "from langchain_community.vectorstores import Neo4jVector\n",
    "from langchain_openai import OpenAIEmbeddings\n",
    "from langchain.text_splitter import RecursiveCharacterTextSplitter\n",
    "from langchain.chains import RetrievalQAWithSourcesChain\n",
    "from langchain_openai import ChatOpenAI"
   ]
  },
  {
   "cell_type": "code",
   "execution_count": 171,
   "metadata": {},
   "outputs": [],
   "source": [
    "# Load from environment\n",
    "from dotenv import load_dotenv\n",
    "import os\n",
    "\n",
    "load_dotenv('.env', override=True)\n",
    "NEO4J_URI = os.getenv('NEO4J_URI')\n",
    "NEO4J_USERNAME = os.getenv('NEO4J_USERNAME')\n",
    "NEO4J_PASSWORD = os.getenv('NEO4J_PASSWORD')\n",
    "NEO4J_DATABASE = os.getenv('NEO4J_DATABASE') or 'neo4j'\n",
    "OPENAI_API_KEY = os.getenv('OPENAI_API_KEY')\n",
    "\n",
    "OPENAI_ENDPOINT = os.getenv('OPENAI_BASE_URL') + '/embeddings'\n"
   ]
  },
  {
   "cell_type": "code",
   "execution_count": 173,
   "metadata": {},
   "outputs": [],
   "source": [
    "\n",
    "# connect to graph using langchain\n",
    "kg = Neo4jGraph(\n",
    "    url=NEO4J_URI, username=NEO4J_USERNAME, password=NEO4J_PASSWORD\n",
    ")\n"
   ]
  },
  {
   "cell_type": "markdown",
   "metadata": {},
   "source": [
    "## Add Item Nodes"
   ]
  },
  {
   "cell_type": "code",
   "execution_count": 26,
   "metadata": {},
   "outputs": [],
   "source": [
    "# Cypher query to add item node\n",
    "merge_item_node_query = \"\"\"\n",
    "MERGE(i:Item {id: $itemParam.id})\n",
    "    ON CREATE SET \n",
    "        i.type = $itemParam.type,\n",
    "        i.text = $itemParam.content, \n",
    "        i.item_refs = $itemParam.item_references, \n",
    "        i.chapter_refs = $itemParam.chapter_references\n",
    "RETURN i\n",
    "\"\"\""
   ]
  },
  {
   "cell_type": "code",
   "execution_count": 27,
   "metadata": {},
   "outputs": [
    {
     "data": {
      "text/plain": [
       "[{'i': {'item_refs': [],\n",
       "   'chapter_refs': [],\n",
       "   'id': '10.1.1',\n",
       "   'type': 'item',\n",
       "   'content': 'This chapter shall apply to the design of nonprestressed and prestressed columns , including reinforced concrete  pedestals .'}}]"
      ]
     },
     "execution_count": 27,
     "metadata": {},
     "output_type": "execute_result"
    }
   ],
   "source": [
    "# add a single item for now\n",
    "kg.query(merge_item_node_query, \n",
    "         params={'itemParam': nodes[\"items\"][0]})"
   ]
  },
  {
   "cell_type": "code",
   "execution_count": 28,
   "metadata": {},
   "outputs": [
    {
     "data": {
      "text/plain": [
       "[]"
      ]
     },
     "execution_count": 28,
     "metadata": {},
     "output_type": "execute_result"
    }
   ],
   "source": [
    "# create a uniqueness constraint to avoid duplicate chunks\n",
    "kg.query(\"\"\"\n",
    "CREATE CONSTRAINT unique_item IF NOT EXISTS \n",
    "    FOR (i:Item) REQUIRE i.id IS UNIQUE\n",
    "\"\"\")\n"
   ]
  },
  {
   "cell_type": "code",
   "execution_count": 29,
   "metadata": {},
   "outputs": [
    {
     "data": {
      "text/plain": [
       "[{'id': 0,\n",
       "  'name': 'index_343aff4e',\n",
       "  'state': 'ONLINE',\n",
       "  'populationPercent': 100.0,\n",
       "  'type': 'LOOKUP',\n",
       "  'entityType': 'NODE',\n",
       "  'labelsOrTypes': None,\n",
       "  'properties': None,\n",
       "  'indexProvider': 'token-lookup-1.0',\n",
       "  'owningConstraint': None,\n",
       "  'lastRead': None,\n",
       "  'readCount': 0},\n",
       " {'id': 1,\n",
       "  'name': 'index_f7700477',\n",
       "  'state': 'ONLINE',\n",
       "  'populationPercent': 100.0,\n",
       "  'type': 'LOOKUP',\n",
       "  'entityType': 'RELATIONSHIP',\n",
       "  'labelsOrTypes': None,\n",
       "  'properties': None,\n",
       "  'indexProvider': 'token-lookup-1.0',\n",
       "  'owningConstraint': None,\n",
       "  'lastRead': None,\n",
       "  'readCount': 0},\n",
       " {'id': 2,\n",
       "  'name': 'unique_item',\n",
       "  'state': 'ONLINE',\n",
       "  'populationPercent': 100.0,\n",
       "  'type': 'RANGE',\n",
       "  'entityType': 'NODE',\n",
       "  'labelsOrTypes': ['Item'],\n",
       "  'properties': ['id'],\n",
       "  'indexProvider': 'range-1.0',\n",
       "  'owningConstraint': 'unique_item',\n",
       "  'lastRead': None,\n",
       "  'readCount': None}]"
      ]
     },
     "execution_count": 29,
     "metadata": {},
     "output_type": "execute_result"
    }
   ],
   "source": [
    "kg.query(\"SHOW INDEXES\")"
   ]
  },
  {
   "cell_type": "code",
   "execution_count": 30,
   "metadata": {},
   "outputs": [
    {
     "name": "stdout",
     "output_type": "stream",
     "text": [
      "Total Item Nodes created: 1830\n"
     ]
    }
   ],
   "source": [
    "for i,item in enumerate(nodes[\"items\"]):\n",
    "    kg.query(merge_item_node_query, \n",
    "         params={'itemParam': item})\n",
    "\n",
    "\n",
    "print(f\"Total Item Nodes created: {i+1}\")"
   ]
  },
  {
   "cell_type": "code",
   "execution_count": 31,
   "metadata": {},
   "outputs": [
    {
     "data": {
      "text/plain": [
       "[{'nodeCount': 1830}]"
      ]
     },
     "execution_count": 31,
     "metadata": {},
     "output_type": "execute_result"
    }
   ],
   "source": [
    "kg.query(\"\"\"\n",
    "         MATCH (i)\n",
    "         RETURN count(i) as nodeCount\n",
    "         \"\"\")"
   ]
  },
  {
   "cell_type": "markdown",
   "metadata": {},
   "source": [
    "## Create Vector Index for Items"
   ]
  },
  {
   "cell_type": "code",
   "execution_count": 32,
   "metadata": {},
   "outputs": [
    {
     "data": {
      "text/plain": [
       "[]"
      ]
     },
     "execution_count": 32,
     "metadata": {},
     "output_type": "execute_result"
    }
   ],
   "source": [
    "kg.query(\"\"\"\n",
    "         CREATE VECTOR INDEX `ACI318-19_items` IF NOT EXISTS\n",
    "          FOR (i:Item) ON (i.textEmbedding) \n",
    "          OPTIONS { indexConfig: {\n",
    "            `vector.dimensions`: 1536,\n",
    "            `vector.similarity_function`: 'cosine'    \n",
    "         }}\n",
    "\"\"\")\n"
   ]
  },
  {
   "cell_type": "code",
   "execution_count": 33,
   "metadata": {},
   "outputs": [
    {
     "data": {
      "text/plain": [
       "[{'id': 4,\n",
       "  'name': 'ACI318-19_items',\n",
       "  'state': 'ONLINE',\n",
       "  'populationPercent': 100.0,\n",
       "  'type': 'VECTOR',\n",
       "  'entityType': 'NODE',\n",
       "  'labelsOrTypes': ['Item'],\n",
       "  'properties': ['textEmbedding'],\n",
       "  'indexProvider': 'vector-2.0',\n",
       "  'owningConstraint': None,\n",
       "  'lastRead': None,\n",
       "  'readCount': None},\n",
       " {'id': 0,\n",
       "  'name': 'index_343aff4e',\n",
       "  'state': 'ONLINE',\n",
       "  'populationPercent': 100.0,\n",
       "  'type': 'LOOKUP',\n",
       "  'entityType': 'NODE',\n",
       "  'labelsOrTypes': None,\n",
       "  'properties': None,\n",
       "  'indexProvider': 'token-lookup-1.0',\n",
       "  'owningConstraint': None,\n",
       "  'lastRead': None,\n",
       "  'readCount': 0},\n",
       " {'id': 1,\n",
       "  'name': 'index_f7700477',\n",
       "  'state': 'ONLINE',\n",
       "  'populationPercent': 100.0,\n",
       "  'type': 'LOOKUP',\n",
       "  'entityType': 'RELATIONSHIP',\n",
       "  'labelsOrTypes': None,\n",
       "  'properties': None,\n",
       "  'indexProvider': 'token-lookup-1.0',\n",
       "  'owningConstraint': None,\n",
       "  'lastRead': None,\n",
       "  'readCount': 0},\n",
       " {'id': 2,\n",
       "  'name': 'unique_item',\n",
       "  'state': 'ONLINE',\n",
       "  'populationPercent': 100.0,\n",
       "  'type': 'RANGE',\n",
       "  'entityType': 'NODE',\n",
       "  'labelsOrTypes': ['Item'],\n",
       "  'properties': ['id'],\n",
       "  'indexProvider': 'range-1.0',\n",
       "  'owningConstraint': 'unique_item',\n",
       "  'lastRead': neo4j.time.DateTime(2024, 3, 20, 23, 26, 57, 602000000, tzinfo=<UTC>),\n",
       "  'readCount': 5308}]"
      ]
     },
     "execution_count": 33,
     "metadata": {},
     "output_type": "execute_result"
    }
   ],
   "source": [
    "VECTOR_INDEX_NAME = \"ACI318-19_items\"\n",
    "kg.query(\"SHOW INDEXES\")\n"
   ]
  },
  {
   "cell_type": "markdown",
   "metadata": {},
   "source": [
    "### Calculate Embedding Vector for Chunks and Populate Index"
   ]
  },
  {
   "cell_type": "code",
   "execution_count": 35,
   "metadata": {},
   "outputs": [
    {
     "data": {
      "text/plain": [
       "[]"
      ]
     },
     "execution_count": 35,
     "metadata": {},
     "output_type": "execute_result"
    }
   ],
   "source": [
    "kg.query(\"\"\"\n",
    "    MATCH (i:Item) WHERE i.textEmbedding IS NULL\n",
    "    WITH i, genai.vector.encode(\n",
    "      i.text, \n",
    "      \"OpenAI\", \n",
    "      {\n",
    "        token: $openAiApiKey, \n",
    "        endpoint: $openAiEndpoint\n",
    "      }) AS vector\n",
    "    CALL db.create.setNodeVectorProperty(i, \"textEmbedding\", vector)\n",
    "    \"\"\", \n",
    "    params={\"openAiApiKey\":OPENAI_API_KEY, \"openAiEndpoint\": OPENAI_ENDPOINT} )"
   ]
  },
  {
   "cell_type": "code",
   "execution_count": 41,
   "metadata": {},
   "outputs": [
    {
     "name": "stdout",
     "output_type": "stream",
     "text": [
      "Node properties are the following:\n",
      "Item {id: STRING, type: STRING, item_refs: LIST, chapter_refs: LIST, textEmbedding: LIST, text: STRING}\n",
      "Relationship properties are the following:\n",
      "\n",
      "The relationships are the following:\n",
      "\n"
     ]
    }
   ],
   "source": [
    "kg.refresh_schema()\n",
    "print(kg.schema)"
   ]
  },
  {
   "cell_type": "code",
   "execution_count": 37,
   "metadata": {},
   "outputs": [
    {
     "name": "stdout",
     "output_type": "stream",
     "text": [
      "[0.001031701685860753, 0.018120311200618744, -0.020472725853323936, -0.02244875393807888, 0.03667077794671059, 0.011930101551115513, -0.030944330617785454, -0.028282741084694862, 0.0001744357286952436, -0.0007628543535247445, 0.004896382335573435, 0.0033185845240950584, -0.00321776675991714, 0.0038478777278214693, -0.0002289403200848028, -0.01922258548438549, 0.012306488119065762, 0.016789516434073448, 0.02558082528412342, -0.006378403399139643, 0.01970651187002659, -0.00718494551256299, -0.011614205315709114, -0.021413691341876984, -0.006217095069587231, 0.0017827940173447132, 0.036939624696969986, -0.030621713027358055, -0.007494119927287102, -0.005423995200544596, -0.0015551139367744327, -0.009140809997916222, 0.0033908372279256582, -0.033632803708314896, -0.01113700121641159, -0.033579032868146896, 0.007910833694040775, 0.0004112524329684675, 0.023631682619452477, 0.013180241920053959, 0.03492327034473419, -0.030164673924446106, -0.009772601537406445, -0.029868941754102707, 0.03503081202507019, 0.010982414707541466, 0.03839140385389328, 0.004435981158167124, -0.02533886395394802, -0.013980062678456306, 0.002891789423301816, 0.01937045156955719, -0.020284533500671387, -0.009080319665372372, 0.0018264816608279943, 0.003387476783245802, -0.009201300330460072, 0.024223146960139275, 0.013603676110506058, -0.010444719344377518, -0.012521565891802311, 0.012178785167634487, -0.01637280359864235, 0.0003049737133551389, -0.021158287301659584, 0.000660356308799237, 0.006213734392076731, 0.0020012324675917625, -0.01295844279229641, -0.0015408314066007733, 0.015337741933763027, 0.013583512976765633, -0.006633808370679617, -0.009214743040502071, 0.006996752228587866, -0.024962477385997772, 0.0321541428565979, -0.02536574751138687, 0.003343788906931877, 0.00021434275549836457, 0.01884619891643524, -0.0321810282766819, -0.0322079136967659, 0.052667196840047836, 0.004419178236275911, 0.0046813045628368855, -0.0018533664988353848, -0.01894029602408409, -0.006556514650583267, -0.018389159813523293, -0.012192227877676487, 0.04263919219374657, 0.006166686303913593, -0.0011846086708828807, -0.013321386650204659, 0.02532542124390602, -0.005578582640737295, 0.010599306784570217, 0.018617678433656693, -0.0161846112459898, 0.00636496115475893, 0.021548114717006683, -0.023376276716589928, 0.002512042410671711, -0.030944330617785454, -0.031159408390522003, 0.0315089114010334, 0.005161869339644909, 0.02535230480134487, -0.01293155737221241, -0.026965389028191566, 0.01967962644994259, 0.006741347257047892, 0.0031505548395216465, 0.013805312104523182, -0.00828721933066845, 0.0065833996050059795, -0.015606588684022427, 0.00181639997754246, -0.016923941671848297, 0.0004583007248584181, 0.003004369093105197, 0.018120311200618744, 0.0163459200412035, 0.0029657224658876657, -0.012629104778170586, -0.0157410129904747, -0.012985327281057835, 0.007756246253848076, -0.013993504457175732, 0.006862328853458166, 0.011573879048228264, 0.020513053983449936, -0.030621713027358055, -0.010491767898201942, 0.01652066968381405, -0.015149548649787903, 0.01930323988199234, -0.03796124830842018, -0.05414585769176483, 0.0018584072822704911, 0.016883613541722298, -0.03578358143568039, -0.009033271111547947, 0.0319659486413002, -0.0010787500068545341, -0.01976028084754944, 0.0074336291290819645, -0.010196035727858543, -0.020123224705457687, -0.0027456036768853664, -0.01894029602408409, 0.008576231077313423, 0.001861767959780991, 0.018120311200618744, -0.01942422054708004, -0.009685225784778595, 0.006492663640528917, 0.0012190546840429306, -0.01465218048542738, -0.0045166355557739735, -0.0028951498679816723, 0.017501963302493095, 0.0005486166337504983, 0.016628209501504898, 0.017327211797237396, 0.004637616686522961, -0.0037773053627461195, 0.009678504429757595, -0.005098017863929272, 0.021413691341876984, 0.01635936088860035, -0.018483255058526993, 0.00355550623498857, 0.0062574222683906555, 0.016708863899111748, 0.010169151239097118, -0.021333036944270134, -0.012306488119065762, -0.014544641599059105, -0.004358687903732061, -0.009234906174242496, 0.0161308404058218, 0.032611183822155, -0.013993504457175732, -0.009463426657021046, 0.024626417085528374, 0.02235465683043003, -0.0074000232852995396, -0.0011778874322772026, -0.01459841150790453, 0.023335950449109077, 0.031078753992915154, -0.003498376114293933, -0.6241559982299805, -0.030164673924446106, -0.0079377181828022, -0.023403162136673927, -0.004425899591296911, 0.0328262634575367, 0.01920914277434349, -0.015176433138549328, -0.013294501230120659, -0.0075680529698729515, 0.001697098952718079, 0.009120646864175797, -0.010579143650829792, 0.001522348145954311, -0.03452000021934509, -0.018053099513053894, -0.0315089114010334, -0.0164803434163332, 0.020015684887766838, 0.006388485431671143, -0.007070685271173716, 0.01957208663225174, -0.010478325188159943, 0.010014563798904419, 0.01908816210925579, 0.007514283526688814, 0.008112468756735325, 0.0002753584994934499, -0.0029421981889754534, 0.005847429856657982, -0.033525265753269196, 0.04841940850019455, -0.02252940833568573, 0.01935700885951519, 0.033229533582925797, 0.021185170859098434, 0.004583847243338823, 0.02294612117111683, 0.021037304773926735, 0.03640193119645119, -0.015337741933763027, -0.013832196593284607, -0.013670887798070908, 0.006301109679043293, -0.0007683153380639851, 0.011271425522863865, 0.03605243191123009, -0.02267727442085743, 0.0037302570417523384, 0.017515406012535095, -0.004163773264735937, 0.006664054002612829, 0.006620366126298904, 0.01138568576425314, -0.0008023413247428834, -0.013166799210011959, 0.037074051797389984, 0.010196035727858543, -0.009530638344585896, -5.744511872762814e-05, 0.0316971018910408, -0.01458496879786253, -0.0056625972501933575, -0.025070015341043472, -0.014826931990683079, -0.024451667442917824, -0.028497818857431412, -0.00281113525852561, 0.00949703250080347, -0.003938613925129175, -0.013334828428924084, 0.002560771070420742, 0.006593481171876192, -0.017085248604416847, -0.02217990718781948, 0.0024868380278348923, 0.010007842443883419, -0.0035622273571789265, -0.0015836789971217513, 0.005813824012875557, -0.01654755510389805, -0.00023188084014691412, 0.002270079916343093, 0.012373699806630611, 0.018469812348484993, -0.017501963302493095, -0.03516523540019989, -0.0052996533922851086, 0.026925062760710716, 0.02898174524307251, 0.013348271138966084, -0.009947352111339569, 0.0070774066261947155, -0.029788287356495857, -0.024424782022833824, 0.0016693740617483854, 0.015378069132566452, 0.017757367342710495, 0.01945110596716404, 0.01102274190634489, 0.0024952394887804985, 0.021144844591617584, 0.0041536916978657246, -0.013623839244246483, 0.030944330617785454, 0.020741572603583336, -0.013227289542555809, -0.0030682203359901905, 0.015378069132566452, -0.013146636076271534, 0.007467235438525677, -0.005676039960235357, -0.027220794931054115, 0.008623278699815273, -0.013859081082046032, -0.03543408215045929, 0.00322280777618289, 0.01933012530207634, -0.017125576734542847, 0.011862889863550663, 0.02224711887538433, 0.004889661446213722, -0.013361713849008083, -0.0004658620455302298, 0.006963146384805441, -0.004583847243338823, 0.009355887770652771, 0.024357570335268974, -0.006166686303913593, 0.028363395482301712, -0.004768679849803448, 0.003478212747722864, 0.03957432880997658, -0.004899743013083935, 0.02282514050602913, 0.009530638344585896, 0.02265038900077343, -0.0006469139480032027, 0.027718162164092064, -0.02217990718781948, -0.005726448725908995, -0.0023759384639561176, 0.021144844591617584, -0.021091075614094734, -0.02274448610842228, -0.04231657460331917, -0.04145626351237297, 0.013590233400464058, -0.03806878626346588, 0.024330684915184975, -0.009772601537406445, -0.0046510593965649605, -0.0322616808116436, -0.018308505415916443, -0.010505210608243942, -0.0032261682208627462, 0.000721267017070204, -0.021198613569140434, -0.009765880182385445, -0.013395319692790508, -0.006492663640528917, 0.018389159813523293, -0.04487062245607376, 0.0019138570642098784, -0.02543295919895172, 0.0006885012844577432, -0.0082200076431036, 0.003797468962147832, 0.0013282739091664553, -0.030406635254621506, -0.0026279829908162355, -0.014571527019143105, 0.0013400360476225615, 0.013428925536572933, -0.024975920096039772, -0.007070685271173716, -0.013677609153091908, -0.003760502440854907, -0.0035723091568797827, 0.0006204493110999465, -0.002557410392910242, -0.023537585511803627, -0.002927075605839491, -0.007682313211262226, -6.999482866376638e-05, 0.00944998487830162, 0.015297414734959602, 0.024505436420440674, -0.0024028231855481863, -0.006274225190281868, 0.014490872621536255, 0.009013107977807522, -0.01273664366453886, 0.014248909428715706, -0.0046476987190544605, 0.02232777327299118, -0.00785706378519535, 0.003478212747722864, 0.004694746807217598, 0.030756138265132904, 0.017434751614928246, -0.011735186912119389, 0.0330413393676281, 0.00404951348900795, 0.03468130901455879, -0.024639859795570374, -0.015015124343335629, -0.018631121143698692, 0.056296635419130325, -0.0077024768106639385, 0.010545537807047367, -0.012306488119065762, -0.029976479709148407, 0.0031438337173312902, 0.000288590817945078, 0.02286546677350998, -0.03809567168354988, 0.021561557427048683, -0.0025019606109708548, 0.002513722749426961, 0.008730817586183548, -0.00985997635871172, 0.013872523792088032, -0.0025876557920128107, -0.024586090818047523, 0.01115044392645359, 0.028282741084694862, 0.027462758123874664, 0.00021927861962467432, -0.024169377982616425, -0.033713459968566895, 0.0074067446403205395, 0.006610284559428692, 0.0164937861263752, 0.002018035389482975, 0.0023759384639561176, 0.030057134106755257, -0.00817296002060175, 0.01959897205233574, 0.0015374708455055952, -1.0449340152263176e-05, 0.02580934576690197, 0.006990031339228153, -0.0018634481821209192, 0.02884732186794281, 0.032638069242239, 0.0320734903216362, 0.00978604331612587, -0.011956986039876938, -0.014894143678247929, -0.004479669034481049, 0.009154252707958221, -0.04110676050186157, 0.009281954728066921, 0.021185170859098434, -0.021010421216487885, 0.021615326404571533, 0.026468021795153618, 0.040031369775533676, 0.018456371501088142, 0.002181024057790637, -0.002144057769328356, 0.024276915937662125, 0.02294612117111683, 0.020163550972938538, 0.0056021069176495075, 0.008932453580200672, 0.006341436877846718, -0.023174641653895378, 0.0045132748782634735, 0.005087936297059059, -0.01951831765472889, 0.017340654507279396, -0.00016792457608971745, -0.020929766818881035, 0.018469812348484993, 0.021279267966747284, -0.001772712217643857, 0.036778319627046585, 0.0019995521288365126, 0.01114372257143259, -0.01266271062195301, -0.01108323223888874, 0.05554386228322983, 0.011647812090814114, 0.008744260296225548, -0.014087601564824581, -0.005434077233076096, -0.005215638782829046, -0.004392293747514486, 0.003720175242051482, 0.0333101861178875, 0.0052727689035236835, -0.0030312538146972656, -0.007299205753952265, -0.023188084363937378, 0.01942422054708004, 0.008616557344794273, -0.0023288901429623365, -0.0323423370718956, -0.0064254519529640675, -0.018200965598225594, 0.021870732307434082, -0.0036596846766769886, 0.0318584106862545, -0.006549793761223555, 0.002070124726742506, -0.0013812032993882895, -0.00957768689841032, -0.006307831034064293, 0.000866192567627877, 0.010444719344377518, -0.0039923833683133125, -0.010552258230745792, 0.010558979585766792, -0.007776409853249788, -0.007621822413057089, -0.01966618373990059, 0.0334446094930172, -0.01873866096138954, 0.02606475166976452, -0.02209925279021263, -0.021117959171533585, -0.0038512384053319693, 0.033874765038490295, 0.0316433347761631, 0.0011358801275491714, 0.01988126151263714, 0.004772040527313948, 0.02226056158542633, -0.01654755510389805, -0.02248908206820488, 0.01922258548438549, -0.014840373769402504, 0.001067828037776053, -0.033901650458574295, 0.0011762072099372745, -0.018563909456133842, 0.013845638372004032, 0.018026215955615044, -0.011661253869533539, -0.039789408445358276, 0.011721745133399963, 0.0002591856464277953, -0.04134872183203697, -0.009228185750544071, 0.030325980857014656, 0.03497704118490219, -0.010175872594118118, -0.02242186851799488, 0.02922370657324791, 0.02287890948355198, -0.007608380168676376, -0.009147531352937222, 0.0021575000137090683, 0.026817522943019867, 0.02265038900077343, 0.007070685271173716, -0.0018500058213248849, 0.016950825229287148, -0.02261006273329258, -0.005114820785820484, 0.0012459394056349993, 0.013738099485635757, 0.018778987228870392, 0.00403271010145545, 0.02203204110264778, -0.011909937486052513, 0.021521231159567833, -0.00973899569362402, -0.0023708976805210114, 0.0069160982966423035, -0.010827827267348766, 0.030460406094789505, 0.006270864512771368, -0.012051082216203213, -0.023873645812273026, -0.00965161994099617, 0.02857847325503826, -0.020943209528923035, -0.018174082040786743, -0.0015500730369240046, -0.017085248604416847, -0.021642211824655533, -0.02602442353963852, -0.021561557427048683, 0.0029942875262349844, -0.0034395658876746893, 0.0022583177778869867, 0.02240842767059803, -0.0321272574365139, 0.01611739955842495, -0.03535342589020729, -0.015216760337352753, 0.003206004621461034, 0.0023288901429623365, -0.007231994066387415, 0.013623839244246483, 0.0325305312871933, -0.014275794848799706, 0.004372130148112774, 0.002728800754994154, -0.02256973460316658, 0.013859081082046032, -0.021171730011701584, -0.010558979585766792, 0.0009191218996420503, -0.024209704250097275, -0.027583738788962364, 0.0325305312871933, -0.011990591883659363, 0.024236589670181274, -0.017622943967580795, 0.00355550623498857, -0.006687577813863754, -0.0011073150672018528, 0.0157410129904747, -0.013543185777962208, 0.0036025545559823513, -0.010928644798696041, 0.005918002221733332, 0.014033831655979156, -0.023268738761544228, -0.015512492507696152, -0.012971884571015835, -0.013039096258580685, -0.0010980734368786216, -0.01666853576898575, 0.03486950322985649, 0.007749524898827076, -0.006176767870783806, 0.04183264821767807, -0.01988126151263714, -0.005024084821343422, 0.005447519477456808, -0.0016769353533163667, 0.011110116727650166, 0.021575000137090683, -0.01980060711503029, 0.029626978561282158, 0.000247003510594368, 0.00815279595553875, 0.011197492480278015, 0.0027052764780819416, 0.02196482941508293, -0.012178785167634487, 0.036966510117053986, 0.01879242993891239, -0.04309622943401337, 0.018012773245573044, -0.020190436393022537, -0.039923831820487976, -0.017569174990057945, 0.01654755510389805, -0.023819874972105026, 0.026279829442501068, -0.0036529633216559887, -0.01654755510389805, -0.036778319627046585, 0.010222920216619968, 0.0016357681015506387, 0.00030749416328035295, -0.012151900678873062, -0.00956424418836832, -0.011587320826947689, 0.007964602671563625, -0.01451775711029768, -0.0073731387965381145, -0.020862555131316185, -0.02290579490363598, -0.01609051413834095, -0.005276129115372896, -0.013126472011208534, 0.0028598636854439974, -0.026293272152543068, 0.006667414214462042, 0.026441138237714767, 0.004644338041543961, -0.036832086741924286, -0.004600650165230036, 0.01286434568464756, -0.02583623118698597, 0.02524476684629917, -0.004540159832686186, 0.023255296051502228, 0.0003885684418492019, -0.00036987513885833323, 0.018617678433656693, -0.003925171215087175, 0.005581943318247795, -0.007279042154550552, 0.005625630728900433, -0.04137560725212097, 0.020916324108839035, 0.0074067446403205395, -0.00362943927757442, 0.005074494052678347, 0.0034815731924027205, 0.013361713849008083, 0.040461525321006775, -0.011775514110922813, 0.006331355310976505, -0.005807102657854557, -0.012682873755693436, -0.008777866140007973, 0.00280273356474936, -5.954548760200851e-05, -0.006519548129290342, -0.007715919055044651, -0.01919570192694664, 0.003095105057582259, -0.010001122020184994, -0.0056625972501933575, 0.0046476987190544605, 0.03763863071799278, -0.03650946915149689, 0.005158508662134409, -0.003338748123496771, 0.01129158865660429, 0.020096339285373688, -0.0019676266238093376, -0.02532542124390602, -0.011412570253014565, 0.013724657706916332, 0.02222023345530033, 0.012219112366437912, -0.006983309984207153, -0.021104516461491585, -0.017690155655145645, -0.02195138670504093, -0.0046476987190544605, 0.007675591856241226, 0.0029455588664859533, -0.0322079136967659, -0.019988801330327988, -0.020311417058110237, 0.0027909716591238976, -0.020029127597808838, 0.0318046435713768, 0.0314013697206974, -0.007803294342011213, 0.027933239936828613, -0.0004700628051068634, -0.004671222995966673, 0.026293272152543068, -0.02566147968173027, 0.021212056279182434, -0.030406635254621506, 0.01286434568464756, -0.0072118304669857025, -0.013442367315292358, -0.010928644798696041, 0.009134088642895222, 0.0009132408304139972, -0.00471827108412981, 0.020996978506445885, 0.033820997923612595, 0.0030850234907120466, -0.013065981678664684, 0.015122664161026478, 0.006724544335156679, 0.018295062705874443, 0.0019272994250059128, 0.020015684887766838, 0.020297976210713387, 0.0008939174585975707, 0.0018869723426178098, -0.009026549756526947, -0.009221464395523071, -0.00816623866558075, -0.01943766325712204, -0.012911394238471985, 0.012380420230329037, 0.0009779322426766157, -0.013381876982748508, 0.020781900733709335, -0.037316013127565384, 0.023779548704624176, 0.009698668494820595, -0.02863224409520626, -0.0016735747922211885, -0.009396214969456196, -0.005477764643728733, 0.00048014457570388913, -0.004073037300258875, 0.023806434124708176, 0.016897056251764297, -0.026494907215237617, 0.01610395684838295, -0.009544081054627895, -0.0022734403610229492, -0.002475075889378786, 0.0007246276363730431, 0.02304021827876568, 0.0158619936555624, -0.020634034648537636, 0.011029462330043316, 0.0321272574365139, 0.02938501536846161, -0.028228972107172012, 0.010653076693415642, -0.004882940091192722, -0.01264254655689001, -0.027556853368878365, -0.020701246336102486, 0.020163550972938538, -0.030110903084278107, -0.012985327281057835, 0.004237706307321787, -0.0028968302067369223, 0.002278481377288699, -0.01977372355759144, -0.007897390983998775, 0.0025372470263391733, -0.02908928319811821, -0.0027909716591238976, -0.000661196478176862, 0.02871289663016796, 0.002559090731665492, 0.001117396866902709, 0.008703933097422123, 0.012225833721458912, 0.0030026889871805906, 0.0038142718840390444, 0.00403607077896595, -0.011560436338186264, -0.020378628745675087, 0.013980062678456306, -0.024680187925696373, -0.012071246281266212, 0.012252718210220337, 0.002110451692715287, -0.018039656803011894, -0.02247563935816288, 0.015552819706499577, 0.030621713027358055, -0.03933236747980118, 0.013368434272706509, -0.013072703033685684, 0.008717375807464123, 0.023201527073979378, 0.00042490483610890806, -0.014248909428715706, -0.002510362071916461, 0.015028567053377628, -0.01889996975660324, 0.029546324163675308, -0.006731265690177679, 0.017945561558008194, -0.0026195812970399857, -0.008992943912744522, 0.0033269859850406647, -0.030944330617785454, -0.01316007785499096, -0.00494007021188736, -0.004983757622539997, -0.04073037579655647, -0.04527389630675316, -0.03876778855919838, -0.003928531892597675, -0.007756246253848076, -0.0018584072822704911, -0.01583511009812355, -0.017636386677622795, 0.008468691259622574, -0.004997200332581997, 0.00937605183571577, 0.012091409415006638, -0.0036865693982690573, -0.00119721086230129, 0.027825701981782913, -0.002271760255098343, -0.026441138237714767, -0.017542289569973946, 0.001240898622199893, 0.043687693774700165, 0.02597065456211567, -0.010384229011833668, -0.020862555131316185, -0.0009334044298157096, -0.047182708978652954, -0.01278369128704071, -0.006375042721629143, -9.593439608579502e-05, 0.028094548732042313, 0.008253613486886024, 0.007527725771069527, 0.03941302374005318, 0.014934470877051353, 0.00036126363556832075, -0.01922258548438549, -0.0011484823189675808, -0.014800046570599079, -0.013254174962639809, -0.0157544557005167, 0.010874875821173191, -0.005944887176156044, -0.012400584295392036, 0.023873645812273026, -0.00988686177879572, 0.017192788422107697, 0.027301449328660965, 0.021292710676789284, 0.017663272097706795, -0.0056323520839214325, -0.012703037820756435, 0.004751876927912235, -0.007628543768078089, 0.01122437696903944, -0.056995637714862823, 0.0080855842679739, -0.004620813764631748, 0.019961915910243988, 0.002819536719471216, 0.007904112339019775, -0.003380755428224802, -0.003133751917630434, 0.012091409415006638, 0.008905569091439247, -0.006996752228587866, 0.016628209501504898, -0.02539263293147087, 0.00635823979973793, 0.0002110871864715591, 0.004372130148112774, 0.04202084243297577, 0.008441806770861149, -0.009053434245288372, -0.020136667415499687, 0.012057803571224213, -0.012682873755693436, -0.002609499730169773, 0.00985997635871172, -0.0014761399943381548, 0.019854377955198288, 0.010767336934804916, 0.011903217062354088, 0.005457601509988308, -0.005101378541439772, -0.021749751642346382, -0.011674696579575539, -0.004439341835677624, 0.013119750656187534, 0.040246449410915375, -0.01973339542746544, -0.004331802949309349, -0.005440798122435808, 0.0027808898594230413, -0.01108995359390974, 0.006180128548294306, -0.023752663284540176, -0.03906352072954178, 0.0011871290626004338, -0.0014089281903579831, -0.01129158865660429, 0.011842725798487663, 0.020203879103064537, -0.010753894224762917, -0.01899406500160694, 0.021225498989224434, 0.20712000131607056, -0.012897951528429985, 0.007016915827989578, 0.002434748923406005, 0.0025674921926110983, -0.00959785096347332, 0.0066170054487884045, 0.005860872566699982, -0.026642773300409317, 0.010303574614226818, 0.011177328415215015, -0.0076016588136553764, -0.007218551356345415, 0.01918225921690464, 0.010975693352520466, -0.0163459200412035, -0.04465554654598236, -0.030379751697182655, 0.004446063190698624, 0.00561218848451972, -0.010612749494612217, -0.0043183607049286366, -0.007016915827989578, -0.0009384452714584768, 0.026750311255455017, 0.009483590722084045, -0.005222359672188759, 0.024975920096039772, 0.021534673869609833, 0.012172063812613487, -0.018012773245573044, 0.007655428256839514, 0.0033068223856389523, -0.018335388973355293, -0.023389719426631927, -0.01435644831508398, 0.06194243207573891, -0.008892126381397247, 0.011278146877884865, 0.027556853368878365, 0.01947799138724804, -0.009685225784778595, 0.00281113525852561, -0.0079444395378232, -0.0013417163863778114, 0.0163324773311615, -0.04747844114899635, 0.004748516250401735, -0.007789852097630501, -0.0020062734838575125, -0.020445840433239937, 0.013254174962639809, 0.02290579490363598, 0.0161980539560318, 0.01428923662751913, -0.013334828428924084, 0.00952391792088747, 0.00786378514021635, 0.01873866096138954, 0.0014080880209803581, -0.010491767898201942, 0.012756806798279285, -0.03554162010550499, 0.018563909456133842, -0.007447071839123964, -0.003170718438923359, -0.036590125411748886, -0.011936822906136513, -0.02236809954047203, -0.021467462182044983, -0.009322281926870346, -0.006237258668988943, 0.00943654216825962, 0.002349053742364049, -0.012004034593701363, -0.026535233482718468, 0.024491993710398674, 0.007003473583608866, 0.004550241399556398, 0.024814611300826073, 0.005417274311184883, -0.003313543740659952, 0.0002528845507185906, 0.007460514083504677, -0.00568276084959507, -0.004913185257464647, 0.02207236737012863, 0.02269071713089943, -0.010317017324268818, -0.04124118387699127, 0.007547889370471239, -0.006233897991478443, -0.01611739955842495, -0.009759158827364445, 0.004241066984832287, 0.009107204154133797, -0.010451440699398518, 0.010861433111131191, 0.01131175272166729, 0.0009258430800400674, -0.024075280874967575, 0.06151227653026581, 0.02211269550025463, -0.015525934286415577, -0.014181697741150856, -0.00815951731055975, 0.01666853576898575, 0.006002017296850681, -0.00032702760654501617, 0.006543072406202555, 0.006976588629186153, -0.004748516250401735, -0.0021692621521651745, -0.011123559437692165, 0.026790639385581017, -0.010155708529055119, 0.009268512949347496, -0.009382772259414196, 0.011426012963056564, -0.020257648080587387, 0.005343341268599033, -0.018106868490576744, -0.0077629671432077885, 0.017717041075229645, 0.012299766764044762, -0.02568836510181427, -0.023873645812273026, -0.0013366754865273833, 0.00635487912222743, -0.0314013697206974, 0.02618573233485222, -0.021480903029441833, -0.003372353967279196, 0.0015937606804072857, 0.01981404982507229, 0.014558084309101105, 0.010901760309934616, -0.018106868490576744, 0.007494119927287102, 0.01446398813277483, -0.0023339311592280865, -0.023362835869193077, 0.00034068000968545675, 0.012138457968831062, 0.0031102278735488653, -0.0021675818134099245, 0.0048459735698997974, -0.007769688498228788, -0.00733953295275569, -0.024881822988390923, 0.007581495214253664, -0.020539937540888786, 0.00828721933066845, 0.0006485942285507917, 0.007426908239722252, -0.0324767604470253, -0.00478212209418416, -0.056511715054512024, -0.0002745183592196554, 0.0016718944534659386, -0.029653863981366158, -0.006737987045198679, 0.0333101861178875, -0.01113700121641159, 0.002675031078979373, -0.0056289914064109325, -0.16969645023345947, 0.01906127668917179, 0.03492327034473419, -0.0158619936555624, 0.043123114854097366, -0.0024549125228077173, 0.008777866140007973, 3.31858464051038e-05, 0.004200739786028862, 0.007917555049061775, 0.02286546677350998, -0.005639073438942432, -0.0031455140560865402, 0.005649155005812645, -0.0030278933700174093, 0.00492998817935586, -0.011419291608035564, -0.00644225487485528, 0.01272992230951786, 0.0017357456963509321, 0.0006179288611747324, -0.012770249508321285, 0.017475077882409096, 0.004667862318456173, -0.0013375155394896865, 0.012971884571015835, -0.04527389630675316, 0.01100929919630289, 0.00963817723095417, -0.014141370542347431, -0.012225833721458912, 0.0008246052311733365, 0.03632127866148949, 0.003313543740659952, -0.006475860718637705, 0.005665957927703857, -0.018402600660920143, 0.017622943967580795, -0.004708189517259598, 0.02270415984094143, -0.02251596562564373, -0.006459057796746492, -0.012010755948722363, 0.008367873728275299, 0.004365408793091774, 0.03586423769593239, 0.001071188715286553, -0.015458722598850727, 0.02593032829463482, -0.003184160916134715, 0.03597177565097809, -0.034116730093955994, 0.006341436877846718, -0.00239274138584733, 0.009913746267557144, 0.027355218306183815, -0.020150110125541687, -0.003837795928120613, -0.010189314372837543, 0.003878123126924038, 0.0034882943145930767, -0.01922258548438549, -0.004926627967506647, -0.017475077882409096, 0.005366865545511246, -0.046860095113515854, -0.021628769114613533, 0.026696542277932167, -0.00981965009123087, 0.02281169779598713, -0.01130503136664629, -0.034197382628917694, -0.01094880886375904, -0.0312938317656517, 0.01137896440923214, 0.01129158865660429, -0.008401479572057724, -0.0038008294068276882, -0.0011669655796140432, -0.0032950604800134897, -0.005457601509988308, 0.029680747538805008, 0.006902656052261591, -0.006543072406202555, -0.0032362500205636024, 0.011204213835299015, -0.00471154972910881, 0.014343006536364555, 0.010545537807047367, 0.0022011876571923494, 0.012911394238471985, -0.0626952052116394, 0.001856727059930563, -0.0320197194814682, -0.004173855297267437, 0.021292710676789284, 0.0072387149557471275, -0.04091856628656387, -0.020163550972938538, -0.01271647959947586, 0.0029472392052412033, -0.016964267939329147, -0.0314282551407814, 0.0065901209600269794, 0.0079309968277812, 0.017125576734542847, 0.007447071839123964, 0.020163550972938538, 0.043230652809143066, -0.012004034593701363, -0.015539376996457577, -0.008253613486886024, 0.012125015258789062, 0.03594489023089409, 0.020808786153793335, 0.019921589642763138, -0.0024952394887804985, 0.0005347541882656515, -0.008670327253639698, 0.012306488119065762, 0.03632127866148949, 0.0328262634575367, -0.0027556854765862226, 0.030218442901968956, -0.0029119530227035284, -0.03556850552558899, -0.11754006147384644, -0.014934470877051353, 0.024895265698432922, 0.03478884696960449, 0.0012677833437919617, 0.005259326193481684, -0.0022079090122133493, -0.010854711756110191, -0.046860095113515854, 0.0015853592194616795, -0.006485942285507917, -0.023873645812273026, -0.018469812348484993, 0.020539937540888786, 0.0323423370718956, -0.004893021658062935, -0.026844408363103867, -0.012178785167634487, -0.05387701094150543, 0.023981183767318726, -0.006865689530968666, 0.01654755510389805, 0.0023221690207719803, -0.0157544557005167, -0.00047258325503207743, 0.01453119982033968, -0.0161980539560318, 0.013536464422941208, 0.00017601100262254477, 0.0073731387965381145, 0.010854711756110191, -0.0165878813713789, -0.006267503835260868, 0.009685225784778595, -0.014571527019143105, -0.01980060711503029, -0.03443934768438339, -0.010874875821173191, 0.028175203129649162, 0.0018668088596314192, -0.005706285126507282, 0.0035219003912061453, -0.003713454119861126, -0.030863676220178604, -0.005588664207607508, -0.024411339312791824, -0.0039016471710056067, 0.024854937568306923, 0.01653411239385605, -0.012608940713107586, -0.0016836565919220448, 0.0005389549187384546, -0.006600202526897192, -0.0013786827912554145, 0.030057134106755257, -0.017838021740317345, -0.0026985553558915854, 0.014477429911494255, -0.01955864578485489, 0.009154252707958221, -0.023967741057276726, 0.010572422295808792, -0.01580822467803955, 0.026333598420023918, 0.01117060799151659, 0.01295172143727541, -0.0331488773226738, -0.008119190111756325, 0.023470373824238777, -0.020660920068621635, 0.006395206321030855, 0.0019239388639107347, -0.023188084363937378, 0.01988126151263714, -0.04495127871632576, 0.0017827940173447132, -0.046429939568042755, 0.010794221423566341, 0.015606588684022427, -0.004278033506125212, -0.00959112960845232, -0.030648598447442055, 0.021306153386831284, -0.00981965009123087, 0.03804190084338188, 0.036751434206962585, 0.013146636076271534, -0.008643442764878273, 0.03591800481081009, 0.007225272711366415, -0.017649829387664795, -0.006455697119235992, 0.027180466800928116, 0.0007573934271931648, -0.014974798075854778, 0.00140472745988518, -0.0006049065268598497, -0.0072118304669857025, -0.018133753910660744, 0.0330413393676281, -0.030110903084278107, -0.025070015341043472, -0.063824363052845, 0.021615326404571533, -0.011419291608035564, 0.011130280792713165, -0.0009300438105128706, -0.013442367315292358, 0.010451440699398518, 0.0031959228217601776, -0.005860872566699982, -0.005427355878055096, -0.03938613831996918, 0.010337180458009243, 0.011264704167842865, -0.010673239827156067, -0.028148317709565163, 0.002633023774251342, 0.010034727863967419, 0.006005377974361181, -0.02196482941508293, 0.005847429856657982, -0.013126472011208534, -0.021561557427048683, 0.01910160481929779, 0.00157443736679852, -0.0009124007192440331, 0.004227624740451574, -0.020486168563365936, 0.001234177383594215, -0.020365187898278236, 0.005921362899243832, 0.020257648080587387, -0.0319659486413002, 0.0031656776554882526, 0.012326651252806187, -0.014692507684230804, -0.027140140533447266, 0.011762071400880814, 0.020513053983449936, 0.03438557684421539, -0.011909937486052513, 0.004570404998958111, -0.03812255337834358, -0.0034546884708106518, -0.01580822467803955, -0.0037806660402566195, -0.011896495707333088, -0.013106308877468109, 0.019961915910243988, 0.0159023217856884, -0.01308614481240511, 0.005481125321239233, 0.023645125329494476, 0.01899406500160694, -0.007581495214253664, -0.01654755510389805, 0.005259326193481684, -0.008562788367271423, 0.013926292769610882, -0.008347710594534874, -0.034036073833703995, 0.04460177570581436, 0.009315560571849346, -0.017663272097706795, 0.01316007785499096, -0.013442367315292358, -0.005353422835469246, -0.0332833006978035, 0.008273777551949024, -0.002720399061217904, -0.012561893090605736, -0.0019659462850540876, -0.026347041130065918, -0.014719393104314804, 0.03465442359447479, 0.0011812481097877026, 0.018617678433656693, 0.00979948602616787, 0.004698107484728098, -0.015391510911285877, 0.003995743580162525, 0.023900529369711876, 0.010552258230745792, -0.026804082095623016, 0.033525265753269196, 0.010760615579783916, -0.0007284082821570337, -0.017367539927363396, 0.017622943967580795, 0.009907024912536144, -0.01578133925795555, 0.018375717103481293, 0.024559205397963524, -0.01910160481929779, -0.0024246671237051487, -0.005269408226013184, -0.013953177258372307, -0.0072723207995295525, -0.010612749494612217, 0.018550466746091843, 0.03575669974088669, -0.003911728970706463, 0.00478884344920516, 0.00981965009123087, -0.023470373824238777, -0.027126697823405266, 0.020553380250930786, -0.02622605860233307, -0.024008069187402725, 0.0002831298625096679, 0.014262352138757706, -0.009053434245288372, 0.007689034566283226, 0.03452000021934509, 0.0164803434163332, 0.006351518910378218, 0.02927747741341591, 0.001650890801101923, -0.01626526564359665, -0.011950264684855938, 0.01962585747241974, -0.017112134024500847, -0.011587320826947689, -0.008643442764878273, 0.02527165226638317, 0.0161846112459898, 0.014974798075854778, 0.01564691588282585, -0.003303461940959096, 0.021749751642346382, 0.014826931990683079, 0.004802285693585873, 0.0025338863488286734, -0.029546324163675308, -0.03962809965014458, 0.021198613569140434, 0.022058924660086632, -0.01938389427959919, 0.0010459842160344124, 0.026965389028191566, 0.08474068343639374, 0.0014752998249605298, -0.03943990543484688, -0.006774953566491604, 0.010760615579783916, 0.03777305409312248, -0.014127928763628006, 0.0007947799749672413, -0.0020802062936127186, -0.02610507793724537, 0.020029127597808838, -0.012420747429132462, -0.00815951731055975, -0.0158485509455204, -0.00355886691249907, 0.008986222557723522, -0.005864232778549194, 0.012420747429132462, 0.0005591184599325061, -0.0030379751697182655, 0.04142937809228897, -0.010975693352520466, 0.02531197853386402, 0.011567157693207264, -0.0319659486413002, -0.01272992230951786, 0.017354097217321396, 0.008347710594534874, 0.008495576679706573, -0.010222920216619968, -0.02216646447777748, 0.024182818830013275, -0.024572648108005524, -0.010619470849633217, 0.02255629375576973, -0.011836004443466663, 0.0031455140560865402, -0.01912848837673664, 0.001363560208119452, 0.013388598337769508, -0.014961355365812778, 0.0319121815264225, -0.020526494830846786, -0.014181697741150856, -0.027476198971271515, 0.021803520619869232, -0.013684330508112907, -0.010787500068545341, -0.025110343471169472]\n",
      "1536\n"
     ]
    }
   ],
   "source": [
    "return_1_query = \"\"\"\n",
    "MATCH (i)\n",
    "RETURN (i.textEmbedding)\n",
    "LIMIT 1\n",
    "\"\"\"\n",
    "embed = kg.query(return_1_query)\n",
    "print(embed[0]['(i.textEmbedding)'])\n",
    "print(len(embed[0]['(i.textEmbedding)']))"
   ]
  },
  {
   "cell_type": "markdown",
   "metadata": {},
   "source": [
    "## Use Similarity Search to Find Relevant Chunks"
   ]
  },
  {
   "cell_type": "code",
   "execution_count": 42,
   "metadata": {},
   "outputs": [],
   "source": [
    "def neo4j_vector_search(question):\n",
    "  \"\"\"Search for similar nodes using the Neo4j vector index\"\"\"\n",
    "  vector_search_query = \"\"\"\n",
    "    WITH genai.vector.encode(\n",
    "      $question, \n",
    "      \"OpenAI\", \n",
    "      {\n",
    "        token: $openAiApiKey,\n",
    "        endpoint: $openAiEndpoint\n",
    "      }) AS question_embedding\n",
    "    CALL db.index.vector.queryNodes($index_name, $top_k, question_embedding) yield node, score\n",
    "    RETURN score, node.text AS text\n",
    "  \"\"\"\n",
    "  \n",
    "  similar = kg.query(vector_search_query, \n",
    "                     params={\n",
    "                      'question': question, \n",
    "                      'openAiApiKey':OPENAI_API_KEY,\n",
    "                      'openAiEndpoint': OPENAI_ENDPOINT,\n",
    "                      'index_name':VECTOR_INDEX_NAME, \n",
    "                      'top_k': 10})\n",
    "  return similar"
   ]
  },
  {
   "cell_type": "code",
   "execution_count": 43,
   "metadata": {},
   "outputs": [
    {
     "name": "stdout",
     "output_type": "stream",
     "text": [
      "[{'score': 0.9238264560699463, 'text': 'Nonprestressed cast-in-place concrete members shall have specified concrete cover for reinforcement at least that given in Table 20.5.1.3.1.  Table 20.5.1.3.1— Specified concrete cover for cast-in-place nonprestressed concrete members     Concrete exposure  Member  Reinforcement  Specified cover, in.      Cast against and permanently in contact with ground  All  All  3    Exposed to weather or in contact with ground  All  No. 6 through No. 18 bars  2    No. 5 bar, W31 or D31 wire, and smaller  1- 1 / 2    Not exposed to weather or in contact with ground  Slabs, joists, and walls  No. 14 and No. 18 bars  1- 1 / 2    No. 11 bar and smaller  3 / 4    Beams , columns , pedestals , and tension ties  Primary reinforcement , stirrups , ties, spirals, and hoops  1- 1 / 2    '}, {'score': 0.9211043119430542, 'text': 'If the concrete cover outside the confining transverse reinforcement required by 18.7.5.1 , 18.7.5.5 , and 18.7.5.6 exceeds 4 in., additional transverse reinforcement having cover not exceeding 4 in. and spacing not exceeding 12 in. shall be provided.'}, {'score': 0.9209325909614563, 'text': 'The minimum reinforcement ratio for diaphragms shall be in conformance with 24.4. Except for post-tensioned slabs, reinforcement spacing each way in floor or roof systems shall not exceed 18 in. Where welded wire reinforcement is used as the distributed reinforcement to resist shear in topping slabs placed over precast floor and roof elements, the wires parallel to the joints between the precast elements shall be spaced not less than 10 in. on center. Reinforcement provided for shear strength shall be continuous and shall be distributed uniformly across the shear plane.'}, {'score': 0.920665979385376, 'text': 'Precast nonprestressed concrete piles for structures assigned to SDC C shall satisfy (a) through (d): (a) Minimum longitudinal steel reinforcement ratio shall be 0.01.  (b) Longitudinal reinforcement shall be enclosed within a minimum of No. 3 closed ties or 3/8 in. diameter spirals, for up to 20 in. diameter piles, and No. 4 closed ties or 1/2 in. diameter spirals, for larger diameter piles.  (c) Spacing of transverse reinforcement within a distance of 3 times the least cross-sectional dimension of the pile from the bottom of the pile cap shall not exceed the lesser of 8 times the diameter of the smallest longitudinal bar and 6 in.  (d) Transverse reinforcement shall be provided throughout the length of the pile at a spacing not exceeding 6 in.'}, {'score': 0.9197909832000732, 'text': 'For headed shear stud reinforcement , specified concrete cover for the heads and base rails shall be at least that required for the reinforcement in the member.'}, {'score': 0.9195191264152527, 'text': 'Beams shall have at least two continuous bars at both top and bottom faces. At any section, for top as well as for bottom reinforcement , the amount of reinforcement shall be at least that required by 9.6.1.2 , and the reinforcement ratio ρ shall not exceed 0.025 for Grade 60 reinforcement and 0.02 for Grade 80 reinforcement .'}, {'score': 0.9193170070648193, 'text': 'Compliance requirements :  Reinforcement , including bundled bars, shall be placed within required tolerances and supported to prevent displacement beyond required tolerances during concrete placement.  Spiral units shall be continuous bar or wire placed with even spacing and without distortion beyond the tolerances for the specified dimensions.  Splices of reinforcement shall be made only as permitted in the construction documents , or as authorized by the licensed design professional .  For longitudinal column bars forming an end-bearing splice, the bearing of square cut ends shall be held in concentric contact.  Bar ends shall terminate in flat surfaces within 1.5 degrees of a right angle to the axis of the bars and shall be fitted within 3 degrees of full bearing after assembly. '}, {'score': 0.919223427772522, 'text': 'Reinforcement shall be provided as follows:   Vertical reinforcement of at least 0.20 square inch (129 mm 2 ) in cross-sectional area shall be provided continuously from support to support at each corner, at each side of each opening and at the ends of walls . The continuous vertical bar required beside an opening is permitted to substitute for one of the two No. 5 bars required by 14.6.1 .  Horizontal reinforcement at least 0.20 square inch (129 mm 2 ) in cross-sectional area shall be provided:  Continuously at structurally connected roof and floor levels and at the top of walls .  At the bottom of load -bearing walls or in the top of foundations where doweled to the wall .  At a maximum spacing of 120 inches (3048 mm).      Reinforcement at the top and bottom of openings, where used in determining the maximum spacing specified in Item 3 above, shall be continuous in the wall .'}, {'score': 0.9189932942390442, 'text': 'Prestressing reinforcement shall not be stressed until compressive strength of concrete , as indicated by tests of cylinders cured in a manner consistent with curing of the member, is at least 2500 psi for single-strand or bar tendons or at least 4000 psi for multistrand tendons unless 25.9.4.5.5 is satisfied.'}, {'score': 0.9182253479957581, 'text': 'For prestressed concrete members classified as Class T or C in 24.5.2 and exposed to corrosive environments or other severe exposure categories such as those given in 19.3, the specified concrete cover for prestressed reinforcement shall be at least one and one-half times the cover in 20.5.1.3.2 for cast-in-place members and in 20.5.1.3.3 for precast members.'}]\n"
     ]
    }
   ],
   "source": [
    "print(neo4j_vector_search(\"What is the number of rebar needed in concrete\"))"
   ]
  },
  {
   "cell_type": "markdown",
   "metadata": {},
   "source": [
    "## Add Section Nodes"
   ]
  },
  {
   "cell_type": "markdown",
   "metadata": {},
   "source": [
    "# Cypher query to add item node"
   ]
  },
  {
   "cell_type": "markdown",
   "metadata": {},
   "source": []
  },
  {
   "cell_type": "code",
   "execution_count": 44,
   "metadata": {},
   "outputs": [
    {
     "data": {
      "text/plain": [
       "{'content': '10.1 Scope', 'id': '10.1', 'type': 'section'}"
      ]
     },
     "execution_count": 44,
     "metadata": {},
     "output_type": "execute_result"
    }
   ],
   "source": [
    "nodes[\"sections\"][0]"
   ]
  },
  {
   "cell_type": "code",
   "execution_count": 50,
   "metadata": {},
   "outputs": [],
   "source": [
    "merge_section_node_query = \"\"\"\n",
    "MERGE(sec:Section {id: $secParam.id})\n",
    "    ON CREATE SET \n",
    "        sec.type = $secParam.type,\n",
    "        sec.text = $secParam.content\n",
    "RETURN sec\n",
    "\"\"\""
   ]
  },
  {
   "cell_type": "code",
   "execution_count": 51,
   "metadata": {},
   "outputs": [
    {
     "data": {
      "text/plain": [
       "[{'sec': {'id': '10.1', 'text': '10.1 Scope', 'type': 'section'}}]"
      ]
     },
     "execution_count": 51,
     "metadata": {},
     "output_type": "execute_result"
    }
   ],
   "source": [
    "# add a single item for now\n",
    "kg.query(merge_section_node_query, \n",
    "         params={'secParam': nodes[\"sections\"][0]})"
   ]
  },
  {
   "cell_type": "code",
   "execution_count": 52,
   "metadata": {},
   "outputs": [
    {
     "data": {
      "text/plain": [
       "[{'id': 4,\n",
       "  'name': 'ACI318-19_items',\n",
       "  'state': 'ONLINE',\n",
       "  'populationPercent': 100.0,\n",
       "  'type': 'VECTOR',\n",
       "  'entityType': 'NODE',\n",
       "  'labelsOrTypes': ['Item'],\n",
       "  'properties': ['textEmbedding'],\n",
       "  'indexProvider': 'vector-2.0',\n",
       "  'owningConstraint': None,\n",
       "  'lastRead': neo4j.time.DateTime(2024, 3, 21, 0, 5, 28, 291000000, tzinfo=<UTC>),\n",
       "  'readCount': 2},\n",
       " {'id': 0,\n",
       "  'name': 'index_343aff4e',\n",
       "  'state': 'ONLINE',\n",
       "  'populationPercent': 100.0,\n",
       "  'type': 'LOOKUP',\n",
       "  'entityType': 'NODE',\n",
       "  'labelsOrTypes': None,\n",
       "  'properties': None,\n",
       "  'indexProvider': 'token-lookup-1.0',\n",
       "  'owningConstraint': None,\n",
       "  'lastRead': neo4j.time.DateTime(2024, 3, 21, 0, 4, 58, 644000000, tzinfo=<UTC>),\n",
       "  'readCount': 8},\n",
       " {'id': 1,\n",
       "  'name': 'index_f7700477',\n",
       "  'state': 'ONLINE',\n",
       "  'populationPercent': 100.0,\n",
       "  'type': 'LOOKUP',\n",
       "  'entityType': 'RELATIONSHIP',\n",
       "  'labelsOrTypes': None,\n",
       "  'properties': None,\n",
       "  'indexProvider': 'token-lookup-1.0',\n",
       "  'owningConstraint': None,\n",
       "  'lastRead': None,\n",
       "  'readCount': 0},\n",
       " {'id': 2,\n",
       "  'name': 'unique_item',\n",
       "  'state': 'ONLINE',\n",
       "  'populationPercent': 100.0,\n",
       "  'type': 'RANGE',\n",
       "  'entityType': 'NODE',\n",
       "  'labelsOrTypes': ['Item'],\n",
       "  'properties': ['id'],\n",
       "  'indexProvider': 'range-1.0',\n",
       "  'owningConstraint': 'unique_item',\n",
       "  'lastRead': neo4j.time.DateTime(2024, 3, 20, 23, 27, 3, 456000000, tzinfo=<UTC>),\n",
       "  'readCount': 5488},\n",
       " {'id': 5,\n",
       "  'name': 'unique_section',\n",
       "  'state': 'ONLINE',\n",
       "  'populationPercent': 100.0,\n",
       "  'type': 'RANGE',\n",
       "  'entityType': 'NODE',\n",
       "  'labelsOrTypes': ['Section'],\n",
       "  'properties': ['id'],\n",
       "  'indexProvider': 'range-1.0',\n",
       "  'owningConstraint': 'unique_section',\n",
       "  'lastRead': None,\n",
       "  'readCount': None}]"
      ]
     },
     "execution_count": 52,
     "metadata": {},
     "output_type": "execute_result"
    }
   ],
   "source": [
    "# create a uniqueness constraint to avoid duplicate chunks\n",
    "kg.query(\"\"\"\n",
    "CREATE CONSTRAINT unique_section IF NOT EXISTS \n",
    "    FOR (sec:Section) REQUIRE sec.id IS UNIQUE\n",
    "\"\"\")\n",
    "\n",
    "kg.query(\"SHOW INDEXES\")"
   ]
  },
  {
   "cell_type": "code",
   "execution_count": 55,
   "metadata": {},
   "outputs": [
    {
     "name": "stdout",
     "output_type": "stream",
     "text": [
      "Total Section Nodes created: 715\n"
     ]
    }
   ],
   "source": [
    "for i,section in enumerate(nodes[\"sections\"]):\n",
    "    kg.query(merge_section_node_query, \n",
    "         params={'secParam': section})\n",
    "\n",
    "\n",
    "print(f\"Total Section Nodes created: {i+1}\")"
   ]
  },
  {
   "cell_type": "markdown",
   "metadata": {},
   "source": [
    "Note: we will not create a vector index for the sections because htey contain little text. The goal is to traverse from the references to sections and then down to the items which contain the most information. \n",
    "\n",
    "Vector representations can be added later if needed."
   ]
  },
  {
   "cell_type": "markdown",
   "metadata": {},
   "source": [
    "## Add Chapter Nodes"
   ]
  },
  {
   "cell_type": "code",
   "execution_count": 53,
   "metadata": {},
   "outputs": [
    {
     "data": {
      "text/plain": [
       "{'content': 'Chapter 10 Columns', 'id': '10', 'type': 'chapter'}"
      ]
     },
     "execution_count": 53,
     "metadata": {},
     "output_type": "execute_result"
    }
   ],
   "source": [
    "nodes[\"chapters\"][0]"
   ]
  },
  {
   "cell_type": "code",
   "execution_count": 56,
   "metadata": {},
   "outputs": [],
   "source": [
    "merge_chapter_node_query = \"\"\"\n",
    "MERGE(ch:Chapter {id: $chParam.id})\n",
    "    ON CREATE SET \n",
    "        ch.type = $chParam.type,\n",
    "        ch.text = $chParam.content\n",
    "RETURN ch\n",
    "\"\"\""
   ]
  },
  {
   "cell_type": "code",
   "execution_count": 57,
   "metadata": {},
   "outputs": [
    {
     "data": {
      "text/plain": [
       "[{'ch': {'id': '10', 'text': 'Chapter 10 Columns', 'type': 'chapter'}}]"
      ]
     },
     "execution_count": 57,
     "metadata": {},
     "output_type": "execute_result"
    }
   ],
   "source": [
    "# add a single item for now\n",
    "kg.query(merge_chapter_node_query, \n",
    "         params={'chParam': nodes[\"chapters\"][0]})"
   ]
  },
  {
   "cell_type": "code",
   "execution_count": 60,
   "metadata": {},
   "outputs": [
    {
     "name": "stdout",
     "output_type": "stream",
     "text": [
      "Total Chapter Nodes created: 26\n"
     ]
    }
   ],
   "source": [
    "for i,chapter in enumerate(nodes[\"chapters\"]):\n",
    "    kg.query(merge_chapter_node_query, \n",
    "         params={'chParam': chapter})\n",
    "\n",
    "\n",
    "print(f\"Total Chapter Nodes created: {i+1}\")"
   ]
  },
  {
   "cell_type": "markdown",
   "metadata": {},
   "source": [
    "Note: we will not create a vector index for the sections because htey contain little text. The goal is to traverse from the references to sections and then down to the items which contain the most information. \n",
    "\n",
    "Vector representations can be added later if needed."
   ]
  },
  {
   "cell_type": "markdown",
   "metadata": {},
   "source": [
    "## Add PART_OF Relationships"
   ]
  },
  {
   "cell_type": "code",
   "execution_count": 62,
   "metadata": {},
   "outputs": [
    {
     "data": {
      "text/plain": [
       "{'type': 'item',\n",
       " 'id': '10.1.1',\n",
       " 'content': 'This chapter shall apply to the design of nonprestressed and prestressed columns , including reinforced concrete  pedestals .',\n",
       " 'item_references': [],\n",
       " 'chapter_references': []}"
      ]
     },
     "execution_count": 62,
     "metadata": {},
     "output_type": "execute_result"
    }
   ],
   "source": [
    "nodes[\"items\"][0]"
   ]
  },
  {
   "cell_type": "code",
   "execution_count": 85,
   "metadata": {},
   "outputs": [
    {
     "data": {
      "text/plain": [
       "[]"
      ]
     },
     "execution_count": 85,
     "metadata": {},
     "output_type": "execute_result"
    }
   ],
   "source": [
    "# delete all PART_OF relationships\n",
    "cypher = \"\"\"\n",
    "MATCH ()-[r:PART_OF]->()\n",
    "DELETE r\n",
    "\"\"\"\n",
    "kg.query(cypher)"
   ]
  },
  {
   "cell_type": "code",
   "execution_count": 91,
   "metadata": {},
   "outputs": [
    {
     "data": {
      "text/plain": [
       "[{'size(upstream_nodes_list)': 3}]"
      ]
     },
     "execution_count": 91,
     "metadata": {},
     "output_type": "execute_result"
    }
   ],
   "source": [
    "# get upstream ids\n",
    "add_PART_OF_relationships_cypher = \"\"\"\n",
    "MATCH (n)\n",
    "WHERE (n.id) IN $upstream_ids\n",
    "WITH (n)\n",
    "    ORDER BY n.id DESC\n",
    "WITH collect(n) AS upstream_nodes_list\n",
    "    CALL apoc.nodes.link(\n",
    "    upstream_nodes_list,\n",
    "    \"PART_OF\",\n",
    "    {avoidDuplicates: true}\n",
    "    )\n",
    "RETURN size(upstream_nodes_list)\n",
    "\"\"\"\n",
    "\n",
    "node_id = nodes[\"items\"][0][\"id\"]\n",
    "kg.query(cypher, params={\"upstream_ids\": extract_upstream_ids(node_id)+ [node_id]})"
   ]
  },
  {
   "cell_type": "code",
   "execution_count": 90,
   "metadata": {},
   "outputs": [
    {
     "data": {
      "text/plain": [
       "[{'n.id': '10.1.1', 'n1.id': '10.1', 'n2.id': '10'}]"
      ]
     },
     "execution_count": 90,
     "metadata": {},
     "output_type": "execute_result"
    }
   ],
   "source": [
    "# check PART_OF relationships for node\n",
    "def find_node_by_id(id):\n",
    "    find_node_by_id_cypher = \"\"\"\n",
    "    MATCH (n)-[:PART_OF]->(n1)-[:PART_OF]->(n2)\n",
    "    WHERE (n.id) = $id\n",
    "    RETURN n.id,n1.id,n2.id\n",
    "    \"\"\"\n",
    "    return kg.query(find_node_by_id_cypher, params={'id': id})\n",
    "\n",
    "find_node_by_id(\"10.1.1\")"
   ]
  },
  {
   "cell_type": "code",
   "execution_count": 92,
   "metadata": {},
   "outputs": [],
   "source": [
    "# PART_OF relationship was successful for item 10.1.1\n",
    "# lets add PART_OF relationships for remaining items\n",
    "for item in nodes[\"items\"]:\n",
    "    kg.query(add_PART_OF_relationships_cypher, params={\"upstream_ids\": extract_upstream_ids(item[\"id\"])+ [item[\"id\"]]})"
   ]
  },
  {
   "cell_type": "markdown",
   "metadata": {},
   "source": [
    "## Add REFERENCES Relationships"
   ]
  },
  {
   "cell_type": "code",
   "execution_count": 101,
   "metadata": {},
   "outputs": [
    {
     "name": "stdout",
     "output_type": "stream",
     "text": [
      "{'type': 'item', 'id': '10.3.1.5', 'content': 'If a reduced effective area is considered according to 10.3.1.1 through 10.3.1.4 , structural analysis and design of other parts of the structure that interact with the column shall be based on the actual cross section.', 'item_references': ['10.3.1.1', '10.3.1.4'], 'chapter_references': []}\n"
     ]
    }
   ],
   "source": [
    "print(nodes[\"items\"][12])"
   ]
  },
  {
   "cell_type": "code",
   "execution_count": 104,
   "metadata": {},
   "outputs": [
    {
     "name": "stdout",
     "output_type": "stream",
     "text": [
      "10.3.1.5\n",
      "['10.3.1.1', '10.3.1.4']\n"
     ]
    }
   ],
   "source": [
    "item_refs = nodes[\"items\"][12]['item_references']\n",
    "item_id = nodes[\"items\"][12][\"id\"]\n",
    "print(item_id)\n",
    "print(item_refs)"
   ]
  },
  {
   "cell_type": "code",
   "execution_count": 106,
   "metadata": {},
   "outputs": [
    {
     "data": {
      "text/plain": [
       "[]"
      ]
     },
     "execution_count": 106,
     "metadata": {},
     "output_type": "execute_result"
    }
   ],
   "source": [
    "add_ref_cypher = \"\"\"\n",
    "UNWIND $ref_IDlist AS refID\n",
    "MERGE (item:Item {id: $item_id})\n",
    "WITH item, refID\n",
    "MATCH (ref_node {id: refID})\n",
    "MERGE (item)-[:REFERENCES]->(ref_node)\n",
    "\"\"\"\n",
    "kg.query(add_ref_cypher, params={\"item_id\": item_id, \"ref_IDlist\": item_refs})"
   ]
  },
  {
   "cell_type": "code",
   "execution_count": 107,
   "metadata": {},
   "outputs": [],
   "source": [
    "# add reference relationships for remaining item nodes\n",
    "for item in nodes[\"items\"]:\n",
    "    kg.query(add_ref_cypher, params={\"item_id\": item[\"id\"], \"ref_IDlist\": item[\"item_references\"]})\n"
   ]
  },
  {
   "cell_type": "markdown",
   "metadata": {},
   "source": [
    "References were successfully added. However, some references reference themselves as seen below. This is unhelpful for graph search and will slow down searches. Lets remove self-reference relationships.\n",
    "\n",
    "<img src=\"images/self_reference_example.png\" alt=\"Self Reference Example\" />"
   ]
  },
  {
   "cell_type": "code",
   "execution_count": 109,
   "metadata": {},
   "outputs": [
    {
     "data": {
      "text/plain": [
       "[]"
      ]
     },
     "execution_count": 109,
     "metadata": {},
     "output_type": "execute_result"
    }
   ],
   "source": [
    "remove_self_reference_relationship_cypher = \"\"\"\n",
    "MATCH (i:Item) - [self_ref:REFERENCES] -> (ref_node:Item)\n",
    "WHERE i.id = ref_node.id\n",
    "DELETE self_ref\n",
    "\"\"\"\n",
    "\n",
    "kg.query(remove_self_reference_relationship_cypher)"
   ]
  },
  {
   "cell_type": "code",
   "execution_count": 110,
   "metadata": {},
   "outputs": [
    {
     "data": {
      "text/plain": [
       "[]"
      ]
     },
     "execution_count": 110,
     "metadata": {},
     "output_type": "execute_result"
    }
   ],
   "source": [
    "check_remove_self_ref = \"\"\"\n",
    "MATCH (i:Item) - [self_ref:REFERENCES] -> (ref_node:Item)\n",
    "WHERE i.id = ref_node.id\n",
    "RETURN i\n",
    "\"\"\"\n",
    "kg.query(check_remove_self_ref)"
   ]
  },
  {
   "cell_type": "markdown",
   "metadata": {},
   "source": [
    "## This concludes the creation of the Neo4j knowledge graph for ACI318-19\n",
    "See <i> query_knlowedge_graph.ipynb </i> for usage with langchain"
   ]
  },
  {
   "cell_type": "code",
   "execution_count": null,
   "metadata": {},
   "outputs": [],
   "source": []
  },
  {
   "cell_type": "code",
   "execution_count": null,
   "metadata": {},
   "outputs": [],
   "source": []
  },
  {
   "cell_type": "code",
   "execution_count": null,
   "metadata": {},
   "outputs": [],
   "source": []
  },
  {
   "cell_type": "code",
   "execution_count": null,
   "metadata": {},
   "outputs": [],
   "source": []
  }
 ],
 "metadata": {
  "kernelspec": {
   "display_name": "venv",
   "language": "python",
   "name": "python3"
  },
  "language_info": {
   "codemirror_mode": {
    "name": "ipython",
    "version": 3
   },
   "file_extension": ".py",
   "mimetype": "text/x-python",
   "name": "python",
   "nbconvert_exporter": "python",
   "pygments_lexer": "ipython3",
   "version": "3.9.0"
  }
 },
 "nbformat": 4,
 "nbformat_minor": 2
}
