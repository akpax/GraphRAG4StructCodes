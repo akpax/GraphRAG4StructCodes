{
 "cells": [
  {
   "cell_type": "code",
   "execution_count": 1,
   "metadata": {},
   "outputs": [],
   "source": [
    "# Langchain\n",
    "from langchain_community.graphs import Neo4jGraph\n",
    "from langchain_community.vectorstores import Neo4jVector\n",
    "from langchain_openai import OpenAIEmbeddings\n",
    "from langchain.text_splitter import RecursiveCharacterTextSplitter\n",
    "from langchain.chains import RetrievalQAWithSourcesChain\n",
    "from langchain_openai import ChatOpenAI\n",
    "\n",
    "import textwrap"
   ]
  },
  {
   "cell_type": "code",
   "execution_count": 2,
   "metadata": {},
   "outputs": [],
   "source": [
    "# Load from environment\n",
    "from dotenv import load_dotenv\n",
    "import os\n",
    "\n",
    "load_dotenv('.env', override=True)\n",
    "NEO4J_URI = os.getenv('NEO4J_URI')\n",
    "NEO4J_USERNAME = os.getenv('NEO4J_USERNAME')\n",
    "NEO4J_PASSWORD = os.getenv('NEO4J_PASSWORD')\n",
    "NEO4J_DATABASE = os.getenv('NEO4J_DATABASE') or 'neo4j'\n",
    "OPENAI_API_KEY = os.getenv('OPENAI_API_KEY')\n",
    "\n",
    "OPENAI_ENDPOINT = os.getenv('OPENAI_BASE_URL') + '/embeddings'"
   ]
  },
  {
   "cell_type": "code",
   "execution_count": 3,
   "metadata": {},
   "outputs": [],
   "source": [
    "\n",
    "# connect to graph using langchain\n",
    "kg = Neo4jGraph(\n",
    "    url=NEO4J_URI, username=NEO4J_USERNAME, password=NEO4J_PASSWORD\n",
    ")\n"
   ]
  },
  {
   "cell_type": "markdown",
   "metadata": {},
   "source": [
    "## Create question chain using Neo4j vectorstore"
   ]
  },
  {
   "cell_type": "code",
   "execution_count": 31,
   "metadata": {},
   "outputs": [
    {
     "data": {
      "text/plain": [
       "'Node properties are the following:\\nItem {id: STRING, type: STRING, item_refs: LIST, chapter_refs: LIST, textEmbedding: LIST, text: STRING},Section {id: STRING, type: STRING, text: STRING},Chapter {id: STRING, type: STRING, text: STRING}\\nRelationship properties are the following:\\n\\nThe relationships are the following:\\n(:Item)-[:PART_OF]->(:Section),(:Item)-[:PART_OF]->(:Chapter),(:Item)-[:PART_OF]->(:Item),(:Item)-[:REFERENCES]->(:Section),(:Item)-[:REFERENCES]->(:Item),(:Section)-[:PART_OF]->(:Chapter),(:Section)-[:PART_OF]->(:Section)'"
      ]
     },
     "execution_count": 31,
     "metadata": {},
     "output_type": "execute_result"
    }
   ],
   "source": [
    "kg.schema"
   ]
  },
  {
   "cell_type": "code",
   "execution_count": 152,
   "metadata": {},
   "outputs": [
    {
     "name": "stderr",
     "output_type": "stream",
     "text": [
      "Failed to write data to connection ResolvedIPv4Address(('34.121.155.65', 7687)) (ResolvedIPv4Address(('34.121.155.65', 7687)))\n",
      "Failed to write data to connection IPv4Address(('3202934d.databases.neo4j.io', 7687)) (ResolvedIPv4Address(('34.121.155.65', 7687)))\n"
     ]
    }
   ],
   "source": [
    "retrieval_query_window = \"\"\"\n",
    "MATCH (queried_item:Item)\n",
    "WITH queried_item, score\n",
    "LIMIT 3 // \n",
    "MATCH (queried_item)-[:REFERENCES]->(reference)\n",
    "WITH queried_item, reference\n",
    "ORDER BY reference.id \n",
    "OPTIONAL MATCH path=(reference)<-[:PART_OF*0..]-(lowestLevel:Item)\n",
    "WHERE NOT EXISTS((lowestLevel)-[:PART_OF]->()) OR reference:Item\n",
    "WITH queried_item, COLLECT(queried_item) + COLLECT(reference) + COLLECT(DISTINCT lowestLevel) AS allItems\n",
    "UNWIND allItems AS result\n",
    "RETURN apoc.text.join(COLLECT(DISTINCT result.text), \"\\n\") as text,\n",
    "{ \n",
    "      source: queried_item.id\n",
    "    } as metadata,\n",
    "    score\n",
    "\n",
    "\n",
    "\"\"\"\n",
    "\n",
    "VECTOR_INDEX_NAME = \"ACI318-19_items\"\n",
    "VECTOR_SOURCE_PROPERTY = 'text'\n",
    "# VECTOR_EMBEDDING_PROPERTY = 'textEmbedding'\n",
    "\n",
    "vector_store_window = Neo4jVector.from_existing_index(\n",
    "    embedding=OpenAIEmbeddings(),\n",
    "    url=NEO4J_URI,\n",
    "    username=NEO4J_USERNAME,\n",
    "    password=NEO4J_PASSWORD,\n",
    "    database=\"neo4j\",\n",
    "    index_name=VECTOR_INDEX_NAME,\n",
    "    text_node_property=[VECTOR_SOURCE_PROPERTY],\n",
    "    retrieval_query=retrieval_query_window, # NEW!!!\n",
    ")\n",
    "\n",
    "# Create a retriever from the vector store\n",
    "retriever = vector_store_window.as_retriever()\n",
    "\n",
    "# Create a chatbot Question & Answer chain from the retriever\n",
    "struct_info_chain = RetrievalQAWithSourcesChain.from_chain_type(\n",
    "    ChatOpenAI(temperature=0), \n",
    "    chain_type=\"stuff\", \n",
    "    retriever=retriever\n",
    ")"
   ]
  },
  {
   "cell_type": "code",
   "execution_count": 96,
   "metadata": {},
   "outputs": [
    {
     "data": {
      "text/plain": [
       "[{'id': 4,\n",
       "  'name': 'ACI318-19_items',\n",
       "  'state': 'ONLINE',\n",
       "  'populationPercent': 100.0,\n",
       "  'type': 'VECTOR',\n",
       "  'entityType': 'NODE',\n",
       "  'labelsOrTypes': ['Item'],\n",
       "  'properties': ['textEmbedding'],\n",
       "  'indexProvider': 'vector-2.0',\n",
       "  'owningConstraint': None,\n",
       "  'lastRead': neo4j.time.DateTime(2024, 3, 27, 19, 55, 30, 167000000, tzinfo=<UTC>),\n",
       "  'readCount': 36},\n",
       " {'id': 0,\n",
       "  'name': 'index_343aff4e',\n",
       "  'state': 'ONLINE',\n",
       "  'populationPercent': 100.0,\n",
       "  'type': 'LOOKUP',\n",
       "  'entityType': 'NODE',\n",
       "  'labelsOrTypes': None,\n",
       "  'properties': None,\n",
       "  'indexProvider': 'token-lookup-1.0',\n",
       "  'owningConstraint': None,\n",
       "  'lastRead': neo4j.time.DateTime(2024, 3, 27, 19, 49, 59, 957000000, tzinfo=<UTC>),\n",
       "  'readCount': 165},\n",
       " {'id': 1,\n",
       "  'name': 'index_f7700477',\n",
       "  'state': 'ONLINE',\n",
       "  'populationPercent': 100.0,\n",
       "  'type': 'LOOKUP',\n",
       "  'entityType': 'RELATIONSHIP',\n",
       "  'labelsOrTypes': None,\n",
       "  'properties': None,\n",
       "  'indexProvider': 'token-lookup-1.0',\n",
       "  'owningConstraint': None,\n",
       "  'lastRead': neo4j.time.DateTime(2024, 3, 27, 16, 26, 56, 728000000, tzinfo=<UTC>),\n",
       "  'readCount': 29},\n",
       " {'id': 2,\n",
       "  'name': 'unique_item',\n",
       "  'state': 'ONLINE',\n",
       "  'populationPercent': 100.0,\n",
       "  'type': 'RANGE',\n",
       "  'entityType': 'NODE',\n",
       "  'labelsOrTypes': ['Item'],\n",
       "  'properties': ['id'],\n",
       "  'indexProvider': 'range-1.0',\n",
       "  'owningConstraint': 'unique_item',\n",
       "  'lastRead': neo4j.time.DateTime(2024, 3, 27, 19, 23, 7, 123000000, tzinfo=<UTC>),\n",
       "  'readCount': 7256},\n",
       " {'id': 5,\n",
       "  'name': 'unique_section',\n",
       "  'state': 'ONLINE',\n",
       "  'populationPercent': 100.0,\n",
       "  'type': 'RANGE',\n",
       "  'entityType': 'NODE',\n",
       "  'labelsOrTypes': ['Section'],\n",
       "  'properties': ['id'],\n",
       "  'indexProvider': 'range-1.0',\n",
       "  'owningConstraint': 'unique_section',\n",
       "  'lastRead': neo4j.time.DateTime(2024, 3, 21, 0, 21, 59, 110000000, tzinfo=<UTC>),\n",
       "  'readCount': 2143}]"
      ]
     },
     "execution_count": 96,
     "metadata": {},
     "output_type": "execute_result"
    }
   ],
   "source": [
    "kg.query(\"SHOW INDEXES\")"
   ]
  },
  {
   "cell_type": "code",
   "execution_count": 112,
   "metadata": {},
   "outputs": [],
   "source": [
    "def neo4j_vector_search(question):\n",
    "  \"\"\"Search for similar nodes using the Neo4j vector index\"\"\"\n",
    "  vector_search_query = \"\"\"\n",
    "    WITH genai.vector.encode(\n",
    "      $question, \n",
    "      \"OpenAI\", \n",
    "      {\n",
    "        token: $openAiApiKey,\n",
    "        endpoint: $openAiEndpoint\n",
    "      }) AS question_embedding\n",
    "    CALL db.index.vector.queryNodes($index_name, $top_k, question_embedding) yield node, score\n",
    "    RETURN score, node.text AS text\n",
    "  \"\"\"\n",
    "  \n",
    "  similar = kg.query(vector_search_query, \n",
    "                     params={\n",
    "                      'question': question, \n",
    "                      'openAiApiKey':OPENAI_API_KEY,\n",
    "                      'openAiEndpoint': OPENAI_ENDPOINT,\n",
    "                      'index_name':VECTOR_INDEX_NAME, \n",
    "                      'top_k': 10})\n",
    "  return similar"
   ]
  },
  {
   "cell_type": "code",
   "execution_count": 155,
   "metadata": {},
   "outputs": [
    {
     "name": "stdout",
     "output_type": "stream",
     "text": [
      "[{'score': 0.9022544622421265, 'text': 'The total test load  T t , including dead load already in place, shall be at least the greatest of (a), (b), and (c):    (a) T t  = 1.0 D w  + 1.1 D s  + 1.6 L  + 0.5( L r or S or R )  (27.4.6.2a)        (b) T t  = 1.0 D w  + 1.1 D s  + 1.0 L  + 1.6( L r or S or R )  (27.4.6.2b)        (c) T t = 1.3( D w  + D s )  (27.4.6.2c)   '}, {'score': 0.8994762301445007, 'text': 'The effect of one or more loads not acting simultaneously shall be investigated.'}, {'score': 0.8988335132598877, 'text': 'Test load arrangements shall be selected to maximize the load effects in the critical regions of the members being evaluated.'}, {'score': 0.8966745734214783, 'text': 'If the effect of a strength deficiency is not well understood or it is not practical to measure the dimensions and determine the material properties of the members required for analysis, a load test is required in accordance with 27.4 .'}, {'score': 0.8963295221328735, 'text': 'Required strength shall be calculated in accordance with the factored load combinations defined in Chapter 5 .'}, {'score': 0.8956411480903625, 'text': 'Required strength shall be calculated in accordance with the factored load combinations in Chapter 5 .'}, {'score': 0.8956411480903625, 'text': 'Required strength shall be calculated in accordance with the factored load combinations in Chapter 5 .'}, {'score': 0.8956411480903625, 'text': 'Required strength shall be calculated in accordance with the factored load combinations in Chapter 5 .'}, {'score': 0.8956411480903625, 'text': 'Required strength shall be calculated in accordance with the factored load combinations in Chapter 5 .'}, {'score': 0.8956411480903625, 'text': 'Required strength shall be calculated in accordance with the factored load combinations in Chapter 5 .'}]\n"
     ]
    }
   ],
   "source": [
    "print(neo4j_vector_search(\"how do i determine loads\"))"
   ]
  },
  {
   "cell_type": "markdown",
   "metadata": {},
   "source": [
    "## Simple Query\n"
   ]
  },
  {
   "cell_type": "code",
   "execution_count": 5,
   "metadata": {},
   "outputs": [],
   "source": [
    "retrieval_query_window = \"\"\"\n",
    "MATCH (queried_item:Item)\n",
    "WITH queried_item, score\n",
    "    MATCH (queried_item)-[REFERENCES]->(ref_item:Item)\n",
    "RETURN queried_item.text + ref_item.text as text,\n",
    "{ \n",
    "      source: queried_item.id\n",
    "    } as metadata,\n",
    "    score\n",
    "LIMIT 5\n",
    "\"\"\"\n",
    "\n",
    "VECTOR_INDEX_NAME = \"ACI318-19_items\"\n",
    "VECTOR_SOURCE_PROPERTY = 'text'\n",
    "# VECTOR_EMBEDDING_PROPERTY = 'textEmbedding'\n",
    "\n",
    "vector_store_window = Neo4jVector.from_existing_index(\n",
    "    embedding=OpenAIEmbeddings(),\n",
    "    url=NEO4J_URI,\n",
    "    username=NEO4J_USERNAME,\n",
    "    password=NEO4J_PASSWORD,\n",
    "    database=\"neo4j\",\n",
    "    index_name=VECTOR_INDEX_NAME,\n",
    "    text_node_property=[VECTOR_SOURCE_PROPERTY],\n",
    "    retrieval_query=retrieval_query_window, # NEW!!!\n",
    ")\n",
    "\n",
    "# Create a retriever from the vector store\n",
    "retriever = vector_store_window.as_retriever()\n",
    "\n",
    "# Create a chatbot Question & Answer chain from the retriever\n",
    "struct_info_chain = RetrievalQAWithSourcesChain.from_chain_type(\n",
    "    ChatOpenAI(temperature=0), \n",
    "    chain_type=\"stuff\", \n",
    "    retriever=retriever\n",
    ")"
   ]
  },
  {
   "cell_type": "code",
   "execution_count": null,
   "metadata": {},
   "outputs": [],
   "source": [
    "def add_to_unique_ref_list(ref_list: list):"
   ]
  },
  {
   "cell_type": "code",
   "execution_count": 12,
   "metadata": {},
   "outputs": [
    {
     "data": {
      "text/plain": [
       "{'answer': 'When designing a concrete seismic-force resisting system, you should look at the requirements for reinforcement in uncased cast-in-place drilled or augered concrete piles, as well as the design of anchors and shear lugs. Additionally, consider the spacing and amount of transverse reinforcement, as well as the maximum spacing of shear reinforcement. \\n',\n",
       " 'sources': '10.3.1.5, 18.13.5.7.1, 26.7.1, 18.4.3.5'}"
      ]
     },
     "execution_count": 12,
     "metadata": {},
     "output_type": "execute_result"
    }
   ],
   "source": [
    "question = \"what requirements should I look at when designing a concrete seismic-froce resisting system?\"\n",
    "\n",
    "struct_info_chain(\n",
    "    {\"question\": question},\n",
    "    return_only_outputs=True,\n",
    ")"
   ]
  },
  {
   "cell_type": "code",
   "execution_count": 13,
   "metadata": {},
   "outputs": [
    {
     "name": "stdout",
     "output_type": "stream",
     "text": [
      "Struct info Chain:\n",
      "{'answer': \"I don't know. \\n\", 'sources': ''}\n",
      "\n",
      " Neo4J Vector Search:\n"
     ]
    },
    {
     "ename": "NameError",
     "evalue": "name 'neo4j_vector_search' is not defined",
     "output_type": "error",
     "traceback": [
      "\u001b[0;31m---------------------------------------------------------------------------\u001b[0m",
      "\u001b[0;31mNameError\u001b[0m                                 Traceback (most recent call last)",
      "Cell \u001b[0;32mIn[13], line 9\u001b[0m\n\u001b[1;32m      4\u001b[0m \u001b[38;5;28mprint\u001b[39m(struct_info_chain(\n\u001b[1;32m      5\u001b[0m     {\u001b[38;5;124m\"\u001b[39m\u001b[38;5;124mquestion\u001b[39m\u001b[38;5;124m\"\u001b[39m: question},\n\u001b[1;32m      6\u001b[0m     return_only_outputs\u001b[38;5;241m=\u001b[39m\u001b[38;5;28;01mTrue\u001b[39;00m,\n\u001b[1;32m      7\u001b[0m ))\n\u001b[1;32m      8\u001b[0m \u001b[38;5;28mprint\u001b[39m(\u001b[38;5;124m\"\u001b[39m\u001b[38;5;130;01m\\n\u001b[39;00m\u001b[38;5;124m Neo4J Vector Search:\u001b[39m\u001b[38;5;124m\"\u001b[39m)\n\u001b[0;32m----> 9\u001b[0m \u001b[38;5;28mprint\u001b[39m(\u001b[43mneo4j_vector_search\u001b[49m(question))\n",
      "\u001b[0;31mNameError\u001b[0m: name 'neo4j_vector_search' is not defined"
     ]
    }
   ],
   "source": [
    "# compare simple chain with neo 4j vector search\n",
    "question = \"I want to design a concrete column. How do i figure out how much rebar I need to add and how I should space out the rebar?\"\n",
    "print(\"Struct info Chain:\")\n",
    "print(struct_info_chain(\n",
    "    {\"question\": question},\n",
    "    return_only_outputs=True,\n",
    "))\n",
    "print(\"\\n Neo4J Vector Search:\")\n",
    "print(neo4j_vector_search(question))\n",
    "\n"
   ]
  },
  {
   "cell_type": "code",
   "execution_count": null,
   "metadata": {},
   "outputs": [],
   "source": []
  }
 ],
 "metadata": {
  "kernelspec": {
   "display_name": "venv",
   "language": "python",
   "name": "python3"
  },
  "language_info": {
   "codemirror_mode": {
    "name": "ipython",
    "version": 3
   },
   "file_extension": ".py",
   "mimetype": "text/x-python",
   "name": "python",
   "nbconvert_exporter": "python",
   "pygments_lexer": "ipython3",
   "version": "3.9.0"
  }
 },
 "nbformat": 4,
 "nbformat_minor": 2
}
